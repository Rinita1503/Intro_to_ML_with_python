{
  "nbformat": 4,
  "nbformat_minor": 0,
  "metadata": {
    "colab": {
      "name": "play_with_NumPy_day4.ipynb",
      "provenance": [],
      "authorship_tag": "ABX9TyOp1mSl/yX4a9BVKAK/dRAk"
    },
    "kernelspec": {
      "name": "python3",
      "display_name": "Python 3"
    },
    "language_info": {
      "name": "python"
    }
  },
  "cells": [
    {
      "cell_type": "markdown",
      "metadata": {
        "id": "RAnjdDaXKABA"
      },
      "source": [
        "Today is the last day of the ***NumPy*** tutorial. Let's begin!!!!"
      ]
    },
    {
      "cell_type": "markdown",
      "metadata": {
        "id": "eo7LFRbbKRX4"
      },
      "source": [
        "### ***Advanced indexing and index tricks***\n",
        "*NumPy offers more indexing facilities than regular Python sequences. In addition to indexing by integers and slices, as we saw before, arrays can be indexed by arrays of integers and arrays of booleans.*"
      ]
    },
    {
      "cell_type": "markdown",
      "metadata": {
        "id": "yVtVo16OKgyQ"
      },
      "source": [
        "***Indexing with Arrays of Indices***"
      ]
    },
    {
      "cell_type": "code",
      "metadata": {
        "colab": {
          "base_uri": "https://localhost:8080/"
        },
        "id": "ITiyxxUCJ2pd",
        "outputId": "d8b58770-f764-4e07-e447-44ed3727a6db"
      },
      "source": [
        "import numpy as np\n",
        "a = np.arange(12)**2  # the first 12 square numbers\n",
        "print(a)\n",
        "print()\n",
        "i = np.array([1, 1, 3, 8, 5])  # an array of indices\n",
        "print(i)\n",
        "print()\n",
        "print(a[i])   # the elements of `a` at the positions i\n",
        "print()\n",
        "j = np.array([[3, 4], [9, 7]])  # a bidimensional array of indices\n",
        "print(j)\n",
        "print()\n",
        "print(a[j])  # the same shape as `j`\n",
        "print()"
      ],
      "execution_count": 1,
      "outputs": [
        {
          "output_type": "stream",
          "text": [
            "[  0   1   4   9  16  25  36  49  64  81 100 121]\n",
            "\n",
            "[1 1 3 8 5]\n",
            "\n",
            "[ 1  1  9 64 25]\n",
            "\n",
            "[[3 4]\n",
            " [9 7]]\n",
            "\n",
            "[[ 9 16]\n",
            " [81 49]]\n",
            "\n"
          ],
          "name": "stdout"
        }
      ]
    },
    {
      "cell_type": "markdown",
      "metadata": {
        "id": "pD1l7b3yMIwE"
      },
      "source": [
        "*When the indexed array a is multidimensional, a single array of indices refers to the first dimension of a. The following example shows this behavior by converting an image of labels into a color image using a palette.*"
      ]
    },
    {
      "cell_type": "code",
      "metadata": {
        "colab": {
          "base_uri": "https://localhost:8080/"
        },
        "id": "LriGqwLEL95P",
        "outputId": "7db66ae4-c333-4fc9-b3f7-9fdcf5f8312d"
      },
      "source": [
        "palette = np.array([[0, 0, 0],          # black\n",
        "                     [255, 0, 0],       # red\n",
        "                     [0, 255, 0],       # green\n",
        "                     [0, 0, 255],       # blue\n",
        "                     [255, 255, 255]])  # white\n",
        "print(palette)\n",
        "print()\n",
        "image = np.array([[0, 1, 2, 0],  # each value corresponds to a color in the palette\n",
        "                   [0, 3, 4, 0]])\n",
        "print(image)\n",
        "print()\n",
        "print(palette[image]) # the (2, 4, 3) color image\n",
        "print()"
      ],
      "execution_count": 2,
      "outputs": [
        {
          "output_type": "stream",
          "text": [
            "[[  0   0   0]\n",
            " [255   0   0]\n",
            " [  0 255   0]\n",
            " [  0   0 255]\n",
            " [255 255 255]]\n",
            "\n",
            "[[0 1 2 0]\n",
            " [0 3 4 0]]\n",
            "\n",
            "[[[  0   0   0]\n",
            "  [255   0   0]\n",
            "  [  0 255   0]\n",
            "  [  0   0   0]]\n",
            "\n",
            " [[  0   0   0]\n",
            "  [  0   0 255]\n",
            "  [255 255 255]\n",
            "  [  0   0   0]]]\n",
            "\n"
          ],
          "name": "stdout"
        }
      ]
    },
    {
      "cell_type": "markdown",
      "metadata": {
        "id": "ydL0afWHM9Xc"
      },
      "source": [
        "*We can also give indexes for more than one dimension. The arrays of indices for each dimension must have the same shape.*"
      ]
    },
    {
      "cell_type": "code",
      "metadata": {
        "colab": {
          "base_uri": "https://localhost:8080/"
        },
        "id": "WTYvm7WIM3Az",
        "outputId": "96188f70-a09a-4d52-b2c2-1896766c17bb"
      },
      "source": [
        "a = np.arange(12).reshape(3, 4)\n",
        "print(a)\n",
        "print()\n",
        "i = np.array([[0, 1],  # indices for the first dim of `a`\n",
        "              [1, 2]])\n",
        "print(i)\n",
        "j = np.array([[2, 1],  # indices for the second dim\n",
        "               [3, 3]])\n",
        "print(j)\n",
        "print()\n",
        "print(a[i, j])  # i and j must have equal shape\n",
        "print()\n",
        "print(a[i, 2])\n",
        "print()\n",
        "print(a[:, j])\n",
        "print()"
      ],
      "execution_count": 3,
      "outputs": [
        {
          "output_type": "stream",
          "text": [
            "[[ 0  1  2  3]\n",
            " [ 4  5  6  7]\n",
            " [ 8  9 10 11]]\n",
            "\n",
            "[[0 1]\n",
            " [1 2]]\n",
            "[[2 1]\n",
            " [3 3]]\n",
            "\n",
            "[[ 2  5]\n",
            " [ 7 11]]\n",
            "\n",
            "[[ 2  6]\n",
            " [ 6 10]]\n",
            "\n",
            "[[[ 2  1]\n",
            "  [ 3  3]]\n",
            "\n",
            " [[ 6  5]\n",
            "  [ 7  7]]\n",
            "\n",
            " [[10  9]\n",
            "  [11 11]]]\n",
            "\n"
          ],
          "name": "stdout"
        }
      ]
    },
    {
      "cell_type": "markdown",
      "metadata": {
        "id": "xLvlCDYTN7GK"
      },
      "source": [
        "*In Python, arr[i, j] is exactly the same as arr[(i, j)]—so we can put i and j in a tuple and then do the indexing with that.*"
      ]
    },
    {
      "cell_type": "code",
      "metadata": {
        "colab": {
          "base_uri": "https://localhost:8080/"
        },
        "id": "6ycdBNp3N2EX",
        "outputId": "418ca63e-2c62-4afc-8f91-8f9536a7c6e7"
      },
      "source": [
        "l = (i, j) # equivalent to a[i, j]\n",
        "print(a[l])"
      ],
      "execution_count": 4,
      "outputs": [
        {
          "output_type": "stream",
          "text": [
            "[[ 2  5]\n",
            " [ 7 11]]\n"
          ],
          "name": "stdout"
        }
      ]
    },
    {
      "cell_type": "markdown",
      "metadata": {
        "id": "4-rh801nOMDr"
      },
      "source": [
        "*However, we can not do this by putting i and j into an array, because this array will be interpreted as indexing the first dimension of a.*"
      ]
    },
    {
      "cell_type": "code",
      "metadata": {
        "colab": {
          "base_uri": "https://localhost:8080/",
          "height": 180
        },
        "id": "K9EpA1LpOIpY",
        "outputId": "ecc68dcc-eecc-4023-cf87-6ea60e369fe4"
      },
      "source": [
        "s = np.array([i, j]) # not what we want\n",
        "print(a[s])"
      ],
      "execution_count": 5,
      "outputs": [
        {
          "output_type": "error",
          "ename": "IndexError",
          "evalue": "ignored",
          "traceback": [
            "\u001b[0;31m---------------------------------------------------------------------------\u001b[0m",
            "\u001b[0;31mIndexError\u001b[0m                                Traceback (most recent call last)",
            "\u001b[0;32m<ipython-input-5-c92699136399>\u001b[0m in \u001b[0;36m<module>\u001b[0;34m()\u001b[0m\n\u001b[1;32m      1\u001b[0m \u001b[0ms\u001b[0m \u001b[0;34m=\u001b[0m \u001b[0mnp\u001b[0m\u001b[0;34m.\u001b[0m\u001b[0marray\u001b[0m\u001b[0;34m(\u001b[0m\u001b[0;34m[\u001b[0m\u001b[0mi\u001b[0m\u001b[0;34m,\u001b[0m \u001b[0mj\u001b[0m\u001b[0;34m]\u001b[0m\u001b[0;34m)\u001b[0m \u001b[0;31m# not what we want\u001b[0m\u001b[0;34m\u001b[0m\u001b[0;34m\u001b[0m\u001b[0m\n\u001b[0;32m----> 2\u001b[0;31m \u001b[0mprint\u001b[0m\u001b[0;34m(\u001b[0m\u001b[0ma\u001b[0m\u001b[0;34m[\u001b[0m\u001b[0ms\u001b[0m\u001b[0;34m]\u001b[0m\u001b[0;34m)\u001b[0m\u001b[0;34m\u001b[0m\u001b[0;34m\u001b[0m\u001b[0m\n\u001b[0m",
            "\u001b[0;31mIndexError\u001b[0m: index 3 is out of bounds for axis 0 with size 3"
          ]
        }
      ]
    },
    {
      "cell_type": "code",
      "metadata": {
        "colab": {
          "base_uri": "https://localhost:8080/"
        },
        "id": "L9_mzdmkOcoC",
        "outputId": "42f625af-706a-4ff5-c166-c53678a245db"
      },
      "source": [
        "a[tuple(s)] # same as `a[i, j]`\n",
        "print(a[tuple(s)])"
      ],
      "execution_count": 6,
      "outputs": [
        {
          "output_type": "stream",
          "text": [
            "[[ 2  5]\n",
            " [ 7 11]]\n"
          ],
          "name": "stdout"
        }
      ]
    },
    {
      "cell_type": "markdown",
      "metadata": {
        "id": "8cYZJ3tKQJmr"
      },
      "source": [
        "*Another common use of indexing with arrays is the search of the maximum value of time-dependent series:*"
      ]
    },
    {
      "cell_type": "code",
      "metadata": {
        "colab": {
          "base_uri": "https://localhost:8080/"
        },
        "id": "XtwXlxS-Oos6",
        "outputId": "092af1e2-2231-4893-dd5c-233986d0d11b"
      },
      "source": [
        "time = np.linspace(20, 145, 5)  # time scale\n",
        "print(time)\n",
        "print()\n",
        "data = np.sin(np.arange(20)).reshape(5, 4)  # 4 time-dependent series\n",
        "print(data)\n",
        "print()\n",
        "ind = data.argmax(axis=0) # index of the maxima for each series\n",
        "print(ind)\n",
        "print()\n",
        "time_max = time[ind] # times corresponding to the maxima\n",
        "print(time_max)\n",
        "print()\n",
        "data_max = data[ind, range(data.shape[1])]  # => data[ind[0], 0], data[ind[1], 1]...\n",
        "print(data_max)\n",
        "print()\n",
        "print(np.all(data_max == data.max(axis=0)))"
      ],
      "execution_count": 7,
      "outputs": [
        {
          "output_type": "stream",
          "text": [
            "[ 20.    51.25  82.5  113.75 145.  ]\n",
            "\n",
            "[[ 0.          0.84147098  0.90929743  0.14112001]\n",
            " [-0.7568025  -0.95892427 -0.2794155   0.6569866 ]\n",
            " [ 0.98935825  0.41211849 -0.54402111 -0.99999021]\n",
            " [-0.53657292  0.42016704  0.99060736  0.65028784]\n",
            " [-0.28790332 -0.96139749 -0.75098725  0.14987721]]\n",
            "\n",
            "[2 0 3 1]\n",
            "\n",
            "[ 82.5   20.   113.75  51.25]\n",
            "\n",
            "[0.98935825 0.84147098 0.99060736 0.6569866 ]\n",
            "\n",
            "True\n"
          ],
          "name": "stdout"
        }
      ]
    },
    {
      "cell_type": "markdown",
      "metadata": {
        "id": "F1h29ql8REkg"
      },
      "source": [
        "*You can also use indexing with arrays as a target to assign to:*"
      ]
    },
    {
      "cell_type": "code",
      "metadata": {
        "colab": {
          "base_uri": "https://localhost:8080/"
        },
        "id": "bB8BOJoMQ-2v",
        "outputId": "32ab0d15-ed39-4e57-897a-cc022d77f3c4"
      },
      "source": [
        "a = np.arange(5)\n",
        "print(a)\n",
        "print()\n",
        "a[[1, 3, 4]] = 0\n",
        "print(a)\n",
        "print()"
      ],
      "execution_count": 8,
      "outputs": [
        {
          "output_type": "stream",
          "text": [
            "[0 1 2 3 4]\n",
            "\n",
            "[0 0 2 0 0]\n",
            "\n"
          ],
          "name": "stdout"
        }
      ]
    },
    {
      "cell_type": "markdown",
      "metadata": {
        "id": "E9Uprmw6RYs4"
      },
      "source": [
        "*However, when the list of indices contains repetitions, the assignment is done several times, leaving behind the last value:*"
      ]
    },
    {
      "cell_type": "code",
      "metadata": {
        "colab": {
          "base_uri": "https://localhost:8080/"
        },
        "id": "nFpguKqFRVjx",
        "outputId": "7e7e9fde-c8eb-4b0c-daf6-8bab35a18a4e"
      },
      "source": [
        "a = np.arange(5)\n",
        "a[[0, 0, 2]] = [1, 2, 3]\n",
        "print(a)"
      ],
      "execution_count": 9,
      "outputs": [
        {
          "output_type": "stream",
          "text": [
            "[2 1 3 3 4]\n"
          ],
          "name": "stdout"
        }
      ]
    },
    {
      "cell_type": "markdown",
      "metadata": {
        "id": "T0o1ocGcRmLX"
      },
      "source": [
        "*This is reasonable enough, but watch out if you want to use Python’s += construct, as it may not do what you expect:*"
      ]
    },
    {
      "cell_type": "code",
      "metadata": {
        "colab": {
          "base_uri": "https://localhost:8080/"
        },
        "id": "weBZfXhDRizI",
        "outputId": "07d91b9a-f804-4740-b7b1-b42e54725711"
      },
      "source": [
        "a = np.arange(5)\n",
        "a[[0, 0, 2]] += 1\n",
        "print(a)"
      ],
      "execution_count": 10,
      "outputs": [
        {
          "output_type": "stream",
          "text": [
            "[1 1 3 3 4]\n"
          ],
          "name": "stdout"
        }
      ]
    },
    {
      "cell_type": "markdown",
      "metadata": {
        "id": "IkNgRmjAR1wU"
      },
      "source": [
        "*Even though 0 occurs twice in the list of indices, the 0th element is only incremented once. This is because Python requires a += 1 to be equivalent to a = a + 1.*"
      ]
    },
    {
      "cell_type": "markdown",
      "metadata": {
        "id": "qXxF3llAWGau"
      },
      "source": [
        "### ***Indexing with Boolean Arrays***\n",
        "*When we index arrays with arrays of (integer) indices we are providing the list of indices to pick. With boolean indices the approach is different; we explicitly choose which items in the array we want and which ones we don’t.*\n",
        "\n",
        "*The most natural way one can think of for boolean indexing is to use boolean arrays that have the same shape as the original array:*"
      ]
    },
    {
      "cell_type": "code",
      "metadata": {
        "colab": {
          "base_uri": "https://localhost:8080/"
        },
        "id": "3R8Z4QJyRzCJ",
        "outputId": "d8c9df45-6bd7-4c8b-89f7-015e8fd40c50"
      },
      "source": [
        "a = np.arange(12).reshape(3, 4)\n",
        "b = a > 4\n",
        "print(b)\n",
        "print()\n",
        "print(a[b])  # 1d array with the selected elements"
      ],
      "execution_count": 11,
      "outputs": [
        {
          "output_type": "stream",
          "text": [
            "[[False False False False]\n",
            " [False  True  True  True]\n",
            " [ True  True  True  True]]\n",
            "\n",
            "[ 5  6  7  8  9 10 11]\n"
          ],
          "name": "stdout"
        }
      ]
    },
    {
      "cell_type": "markdown",
      "metadata": {
        "id": "LuqLp9NeYDmT"
      },
      "source": [
        "*This property can be very useful in assignments:*"
      ]
    },
    {
      "cell_type": "code",
      "metadata": {
        "colab": {
          "base_uri": "https://localhost:8080/"
        },
        "id": "fuIpkvZEX0ai",
        "outputId": "049ab358-2e0f-4708-954f-734066eacf2d"
      },
      "source": [
        "a[b] = 0  # All elements of `a` higher than 4 become 0\n",
        "print(a)"
      ],
      "execution_count": 12,
      "outputs": [
        {
          "output_type": "stream",
          "text": [
            "[[0 1 2 3]\n",
            " [4 0 0 0]\n",
            " [0 0 0 0]]\n"
          ],
          "name": "stdout"
        }
      ]
    },
    {
      "cell_type": "markdown",
      "metadata": {
        "id": "aPhEEdirY8vb"
      },
      "source": [
        "*You can look at the following example to see how to use boolean indexing to generate an image of the Mandelbrot set:*"
      ]
    },
    {
      "cell_type": "code",
      "metadata": {
        "colab": {
          "base_uri": "https://localhost:8080/",
          "height": 286
        },
        "id": "zUmtgtivYXhk",
        "outputId": "b37c75de-822c-4ddc-c8b6-b680eb37f747"
      },
      "source": [
        "import numpy as np\n",
        "import matplotlib.pyplot as plt\n",
        "def mandelbrot(h, w, maxit=20, r=2):\n",
        "    \"\"\"Returns an image of the Mandelbrot fractal of size (h,w).\"\"\"\n",
        "    x = np.linspace(-2.5, 1.5, 4*h+1)\n",
        "    y = np.linspace(-1.5, 1.5, 3*w+1)\n",
        "    A, B = np.meshgrid(x, y)\n",
        "    C = A + B*1j\n",
        "    z = np.zeros_like(C)\n",
        "    divtime = maxit + np.zeros(z.shape, dtype=int)\n",
        "\n",
        "    for i in range(maxit):\n",
        "        z = z**2 + C\n",
        "        diverge = abs(z) > r                    # who is diverging\n",
        "        div_now = diverge & (divtime == maxit)  # who is diverging now\n",
        "        divtime[div_now] = i                    # note when\n",
        "        z[diverge] = r                          # avoid diverging too much\n",
        "\n",
        "    return divtime\n",
        "plt.imshow(mandelbrot(400, 400))"
      ],
      "execution_count": 13,
      "outputs": [
        {
          "output_type": "execute_result",
          "data": {
            "text/plain": [
              "<matplotlib.image.AxesImage at 0x7f87721c9390>"
            ]
          },
          "metadata": {
            "tags": []
          },
          "execution_count": 13
        },
        {
          "output_type": "display_data",
          "data": {
            "image/png": "[encoded data removed]",
            "text/plain": [
              "<Figure size 432x288 with 1 Axes>"
            ]
          },
          "metadata": {
            "tags": [],
            "needs_background": "light"
          }
        }
      ]
    },
    {
      "cell_type": "markdown",
      "metadata": {
        "id": "DrnHApXEZnWZ"
      },
      "source": [
        "*The second way of indexing with booleans is more similar to integer indexing; for each dimension of the array we give a 1D boolean array selecting the slices we want:*"
      ]
    },
    {
      "cell_type": "code",
      "metadata": {
        "id": "k1qYjSTQZEsW"
      },
      "source": [
        "a = np.arange(12).reshape(3, 4)\n",
        "b1 = np.array([False, True, True])         # first dim selection\n",
        "b2 = np.array([True, False, True, False])  # second dim selection"
      ],
      "execution_count": 14,
      "outputs": []
    },
    {
      "cell_type": "code",
      "metadata": {
        "colab": {
          "base_uri": "https://localhost:8080/"
        },
        "id": "lS8WEr29amCD",
        "outputId": "ba229500-8a10-4ce7-a1c7-8872e6a6da60"
      },
      "source": [
        "print(a[b1, :]) # selecting rows\n",
        "print()\n",
        "print(a[b1])    # same thing\n",
        "print()\n",
        "print(a[:, b2]) # selecting columns\n",
        "print()\n",
        "print(a[b1, b2])# a weird thing to do"
      ],
      "execution_count": 15,
      "outputs": [
        {
          "output_type": "stream",
          "text": [
            "[[ 4  5  6  7]\n",
            " [ 8  9 10 11]]\n",
            "\n",
            "[[ 4  5  6  7]\n",
            " [ 8  9 10 11]]\n",
            "\n",
            "[[ 0  2]\n",
            " [ 4  6]\n",
            " [ 8 10]]\n",
            "\n",
            "[ 4 10]\n"
          ],
          "name": "stdout"
        }
      ]
    },
    {
      "cell_type": "markdown",
      "metadata": {
        "id": "-VpH1ICSeDKY"
      },
      "source": [
        "*Note that the length of the 1D boolean array must coincide with the length of the dimension (or axis) you want to slice. In the previous example, b1 has length 3 (the number of rows in a), and b2 (of length 4) is suitable to index the 2nd axis (columns) of a.*"
      ]
    },
    {
      "cell_type": "markdown",
      "metadata": {
        "id": "JD1bSEZFeJm-"
      },
      "source": [
        "### ***The ix_() function***\n",
        "*The ix_ function can be used to combine different vectors so as to obtain the result for each n-uplet. For example, if you want to compute all the a+b*c for all the triplets taken from each of the vectors a, b and c:*"
      ]
    },
    {
      "cell_type": "code",
      "metadata": {
        "id": "cl4cMLcmd-IA"
      },
      "source": [
        "a = np.array([2, 3, 4, 5])\n",
        "b = np.array([8, 5, 4])\n",
        "c = np.array([5, 4, 6, 8, 3])\n",
        "ax, bx, cx = np.ix_(a, b, c)"
      ],
      "execution_count": 16,
      "outputs": []
    },
    {
      "cell_type": "code",
      "metadata": {
        "colab": {
          "base_uri": "https://localhost:8080/"
        },
        "id": "ko18Uq_XedNt",
        "outputId": "47ac5e86-2544-4c00-c594-4f335a2efc57"
      },
      "source": [
        "print(ax)\n",
        "print()\n",
        "print(bx)\n",
        "print()\n",
        "print(cx)\n",
        "print()\n",
        "print(ax.shape,bx.shape,cx.shape)"
      ],
      "execution_count": 17,
      "outputs": [
        {
          "output_type": "stream",
          "text": [
            "[[[2]]\n",
            "\n",
            " [[3]]\n",
            "\n",
            " [[4]]\n",
            "\n",
            " [[5]]]\n",
            "\n",
            "[[[8]\n",
            "  [5]\n",
            "  [4]]]\n",
            "\n",
            "[[[5 4 6 8 3]]]\n",
            "\n",
            "(4, 1, 1) (1, 3, 1) (1, 1, 5)\n"
          ],
          "name": "stdout"
        }
      ]
    },
    {
      "cell_type": "code",
      "metadata": {
        "colab": {
          "base_uri": "https://localhost:8080/"
        },
        "id": "b58N3a6uext7",
        "outputId": "a9e1a240-8080-4ede-e670-564794b079eb"
      },
      "source": [
        "result = ax + bx * cx\n",
        "print(result)"
      ],
      "execution_count": 18,
      "outputs": [
        {
          "output_type": "stream",
          "text": [
            "[[[42 34 50 66 26]\n",
            "  [27 22 32 42 17]\n",
            "  [22 18 26 34 14]]\n",
            "\n",
            " [[43 35 51 67 27]\n",
            "  [28 23 33 43 18]\n",
            "  [23 19 27 35 15]]\n",
            "\n",
            " [[44 36 52 68 28]\n",
            "  [29 24 34 44 19]\n",
            "  [24 20 28 36 16]]\n",
            "\n",
            " [[45 37 53 69 29]\n",
            "  [30 25 35 45 20]\n",
            "  [25 21 29 37 17]]]\n"
          ],
          "name": "stdout"
        }
      ]
    },
    {
      "cell_type": "code",
      "metadata": {
        "colab": {
          "base_uri": "https://localhost:8080/"
        },
        "id": "pcjaKr-4e7oT",
        "outputId": "69ed471b-a5f4-4bd9-a7e6-472e1e9e66f9"
      },
      "source": [
        "result[3, 2, 4]"
      ],
      "execution_count": 19,
      "outputs": [
        {
          "output_type": "execute_result",
          "data": {
            "text/plain": [
              "17"
            ]
          },
          "metadata": {
            "tags": []
          },
          "execution_count": 19
        }
      ]
    },
    {
      "cell_type": "code",
      "metadata": {
        "colab": {
          "base_uri": "https://localhost:8080/"
        },
        "id": "mGZrBAcWfBaB",
        "outputId": "de459276-5bda-4ce7-c659-62cdd027e898"
      },
      "source": [
        "a[3] + b[2] * c[4]"
      ],
      "execution_count": 20,
      "outputs": [
        {
          "output_type": "execute_result",
          "data": {
            "text/plain": [
              "17"
            ]
          },
          "metadata": {
            "tags": []
          },
          "execution_count": 20
        }
      ]
    },
    {
      "cell_type": "code",
      "metadata": {
        "colab": {
          "base_uri": "https://localhost:8080/"
        },
        "id": "f4RYErPzfEor",
        "outputId": "575c29c3-0040-4d94-8650-5f1706059a89"
      },
      "source": [
        "result [3,2,4] == a[3] + b[2] * c[4]"
      ],
      "execution_count": 22,
      "outputs": [
        {
          "output_type": "execute_result",
          "data": {
            "text/plain": [
              "True"
            ]
          },
          "metadata": {
            "tags": []
          },
          "execution_count": 22
        }
      ]
    },
    {
      "cell_type": "code",
      "metadata": {
        "colab": {
          "base_uri": "https://localhost:8080/"
        },
        "id": "tg1Er6PZfIvI",
        "outputId": "965820c7-debc-499b-d6f5-4a27d516bd7f"
      },
      "source": [
        "def ufunc_reduce(ufct, *vectors):\n",
        "  vs = np.ix_(*vectors)\n",
        "  r = ufct.identity\n",
        "  for v in vs:\n",
        "    r = ufct(r, v)\n",
        "  return r\n",
        "# and then use it as:\n",
        "ufunc_reduce(np.add, a, b, c)"
      ],
      "execution_count": 24,
      "outputs": [
        {
          "output_type": "execute_result",
          "data": {
            "text/plain": [
              "array([[[15, 14, 16, 18, 13],\n",
              "        [12, 11, 13, 15, 10],\n",
              "        [11, 10, 12, 14,  9]],\n",
              "\n",
              "       [[16, 15, 17, 19, 14],\n",
              "        [13, 12, 14, 16, 11],\n",
              "        [12, 11, 13, 15, 10]],\n",
              "\n",
              "       [[17, 16, 18, 20, 15],\n",
              "        [14, 13, 15, 17, 12],\n",
              "        [13, 12, 14, 16, 11]],\n",
              "\n",
              "       [[18, 17, 19, 21, 16],\n",
              "        [15, 14, 16, 18, 13],\n",
              "        [14, 13, 15, 17, 12]]])"
            ]
          },
          "metadata": {
            "tags": []
          },
          "execution_count": 24
        }
      ]
    },
    {
      "cell_type": "markdown",
      "metadata": {
        "id": "KgFvwcaIfu7V"
      },
      "source": [
        "*The advantage of this version of reduce compared to the normal ufunc.reduce is that it makes use of the broadcasting rules in order to avoid creating an argument array the size of the output times the number of vectors.*"
      ]
    },
    {
      "cell_type": "markdown",
      "metadata": {
        "id": "i9A0gZZ6f33K"
      },
      "source": [
        "### ***“Automatic” Reshaping***\n",
        "*To change the dimensions of an array, you can omit one of the sizes which will then be deduced automatically:*"
      ]
    },
    {
      "cell_type": "code",
      "metadata": {
        "colab": {
          "base_uri": "https://localhost:8080/"
        },
        "id": "fBJj22zCfa5T",
        "outputId": "d003345e-8015-43b0-e3b3-79d2c7d8c04e"
      },
      "source": [
        "a = np.arange(30)\n",
        "b = a.reshape((2, -1, 3))  # -1 means \"whatever is needed\"\n",
        "print(b.shape)\n",
        "print()\n",
        "print(b)"
      ],
      "execution_count": 25,
      "outputs": [
        {
          "output_type": "stream",
          "text": [
            "(2, 5, 3)\n",
            "\n",
            "[[[ 0  1  2]\n",
            "  [ 3  4  5]\n",
            "  [ 6  7  8]\n",
            "  [ 9 10 11]\n",
            "  [12 13 14]]\n",
            "\n",
            " [[15 16 17]\n",
            "  [18 19 20]\n",
            "  [21 22 23]\n",
            "  [24 25 26]\n",
            "  [27 28 29]]]\n"
          ],
          "name": "stdout"
        }
      ]
    },
    {
      "cell_type": "markdown",
      "metadata": {
        "id": "o8kdTnx_gSCe"
      },
      "source": [
        "### ***Vector Stacking***\n",
        "*How do we construct a 2D array from a list of equally-sized row vectors? In MATLAB this is quite easy: if x and y are two vectors of the same length you only need do m=[x;y]. In NumPy this works via the functions column_stack, dstack, hstack and vstack, depending on the dimension in which the stacking is to be done. For example:*"
      ]
    },
    {
      "cell_type": "code",
      "metadata": {
        "colab": {
          "base_uri": "https://localhost:8080/"
        },
        "id": "Q_XCpBPOgKh8",
        "outputId": "3beef020-0280-4560-84d8-3f590e9e5e0b"
      },
      "source": [
        "x = np.arange(0, 10, 2)\n",
        "y = np.arange(5)\n",
        "m = np.vstack([x, y])\n",
        "print(m)\n",
        "print()\n",
        "xy = np.hstack([x, y])\n",
        "print(xy)"
      ],
      "execution_count": 26,
      "outputs": [
        {
          "output_type": "stream",
          "text": [
            "[[0 2 4 6 8]\n",
            " [0 1 2 3 4]]\n",
            "\n",
            "[0 2 4 6 8 0 1 2 3 4]\n"
          ],
          "name": "stdout"
        }
      ]
    },
    {
      "cell_type": "markdown",
      "metadata": {
        "id": "PEc80gAZgywN"
      },
      "source": [
        "### ***Histograms***\n",
        "*The NumPy histogram function applied to an array returns a pair of vectors: the histogram of the array and a vector of the bin edges. Beware: matplotlib also has a function to build histograms (called hist, as in Matlab) that differs from the one in NumPy. The main difference is that pylab.hist plots the histogram automatically, while numpy.histogram only generates the data.*"
      ]
    },
    {
      "cell_type": "code",
      "metadata": {
        "colab": {
          "base_uri": "https://localhost:8080/",
          "height": 282
        },
        "id": "nyREIsvegs6L",
        "outputId": "a85a11a1-01b3-48cd-e269-6e141c0c9e89"
      },
      "source": [
        "import numpy as np\n",
        "rg = np.random.default_rng(1)\n",
        "import matplotlib.pyplot as plt\n",
        "# Build a vector of 10000 normal deviates with variance 0.5^2 and mean 2\n",
        "mu, sigma = 2, 0.5\n",
        "v = rg.normal(mu, sigma, 10000)\n",
        "# Plot a normalized histogram with 50 bins\n",
        "plt.hist(v, bins=50, density=True)       # matplotlib version (plot)\n",
        "# Compute the histogram with numpy and then plot it\n",
        "(n, bins) = np.histogram(v, bins=50, density=True)  # NumPy version (no plot)\n",
        "plt.plot(.5 * (bins[1:] + bins[:-1]), n)"
      ],
      "execution_count": 27,
      "outputs": [
        {
          "output_type": "execute_result",
          "data": {
            "text/plain": [
              "[<matplotlib.lines.Line2D at 0x7f87720a62d0>]"
            ]
          },
          "metadata": {
            "tags": []
          },
          "execution_count": 27
        },
        {
          "output_type": "display_data",
          "data": {
            "image/png": "[encoded data removed]",
            "text/plain": [
              "<Figure size 432x288 with 1 Axes>"
            ]
          },
          "metadata": {
            "tags": [],
            "needs_background": "light"
          }
        }
      ]
    },
    {
      "cell_type": "markdown",
      "metadata": {
        "id": "XpuaPBtihEWJ"
      },
      "source": [
        "*This is the end of Numpy Tutorial!!!*\n",
        "\n",
        "*Hope you enjoyed!!!*\n",
        "\n",
        "*Suggestions and questions are always welcome!!!*"
      ]
    },
    {
      "cell_type": "code",
      "metadata": {
        "id": "83VKz0k3hA_4"
      },
      "source": [
        ""
      ],
      "execution_count": null,
      "outputs": []
    }
  ]
}