{
  "nbformat": 4,
  "nbformat_minor": 0,
  "metadata": {
    "colab": {
      "name": "BioPython-Tutorial.ipynb",
      "provenance": [],
      "authorship_tag": "ABX9TyOQl49l8PM43n1AFiILaRQ8",
      "include_colab_link": true
    },
    "kernelspec": {
      "name": "python3",
      "display_name": "Python 3"
    },
    "language_info": {
      "name": "python"
    },
    "accelerator": "GPU"
  },
  "cells": [
    {
      "cell_type": "markdown",
      "metadata": {
        "id": "view-in-github",
        "colab_type": "text"
      },
      "source": [
        "<a href=\"https://colab.research.google.com/github/ayanbabusona/Intro_to_ML_with_python/blob/main/BioPython_Tutorial.ipynb\" target=\"_parent\"><img src=\"https://colab.research.google.com/assets/colab-badge.svg\" alt=\"Open In Colab\"/></a>"
      ]
    },
    {
      "cell_type": "markdown",
      "metadata": {
        "id": "jAKai6x9-9LQ"
      },
      "source": [
        "# **What is BioPython??**\n",
        "\n",
        "*BioPython is a set of free Python modules for working with genomic data, as well as other tools that are commonly used for sequence analysis, such as BLAST and Clustalw. Or as the BioPython developers put it.*"
      ]
    },
    {
      "cell_type": "markdown",
      "metadata": {
        "id": "RgVq8c_D_NYv"
      },
      "source": [
        "*Basically, the goal of Biopython is to make it as easy as possible to use Python for bioinformatics by creating high-quality, reusable modules and classes. Biopython features include parsers for various Bioinformatics file formats (BLAST, Clustalw, FASTA, Genbank,...), access to online services (NCBI, Expasy,...), interfaces to common and not-so-common programs (Clustalw, DSSP, MSMS...), a standard sequence class, various clustering modules, a KD tree data structure etc. and even documentation.*"
      ]
    },
    {
      "cell_type": "markdown",
      "metadata": {
        "id": "wxqxJTUC_lMO"
      },
      "source": [
        "*In terms of getting help, BioPython has a very large cookbook full of examples, and as always, Google is your best friend. This very brief tutorial covers some of the basic bioinformatics tools that will be useful throughout the course.*"
      ]
    },
    {
      "cell_type": "markdown",
      "metadata": {
        "id": "r9BDGmUA_ygA"
      },
      "source": [
        "# **BioPython and Support from External Tools**\n",
        "\n",
        "*Biopython includes support for interfacing with or parsing the output from a number of third party command line tools. These tools are not required to install Biopython, but may be of interest. This includes:*\n",
        "\n",
        "\n",
        "\n",
        "*   NCBI Standalone BLAST, which can used with the Bio.Blast module and parsed with the Bio.SearchIO module.\n",
        "*   EMBOSS tools, which can be invoked using the Bio.Emboss module. The Bio.AlignIO module can also parse some alignment formats output by the EMBOSS suite.\n",
        "*   ClustalW, which can be parsed using Bio.AlignIO and invoked using the Bio.Align.Applications module.\n",
        "*   SIMCOAL2 and FDist tools for population genetics can be used via the Bio.PopGen module.\n",
        "*   Bill Pearson’s FASTA tools output can be parsed using the Bio.AlignIO and Bio.SearchIO module.\n",
        "*   Wise2 includes the useful tool dnal.\n",
        "\n",
        "\n",
        "\n",
        "\n",
        "\n"
      ]
    },
    {
      "cell_type": "code",
      "metadata": {
        "colab": {
          "base_uri": "https://localhost:8080/"
        },
        "id": "BpTitHEw-2cS",
        "outputId": "b8ee642f-d45f-4198-f965-9ed4a08bb826"
      },
      "source": [
        "!pip3 install biopython\n",
        "import Bio as bio\n",
        "print()\n",
        "print(\"BioPython Version: \"+str(bio.__version__))"
      ],
      "execution_count": 3,
      "outputs": [
        {
          "output_type": "stream",
          "name": "stdout",
          "text": [
            "Requirement already satisfied: biopython in /usr/local/lib/python3.7/dist-packages (1.79)\n",
            "Requirement already satisfied: numpy in /usr/local/lib/python3.7/dist-packages (from biopython) (1.19.5)\n",
            "\n",
            "BioPython Version: 1.79\n"
          ]
        }
      ]
    },
    {
      "cell_type": "markdown",
      "metadata": {
        "id": "VzR2iTpPBkk7"
      },
      "source": [
        "# **Basic Sequence Tools**\n",
        "\n",
        "*Sequences in bioinformatics can simply be interpreted as being strings. BioPython represents sequences with the Seq object, which contains properties beyond that of a simple string object. For example, the Alphabet of the sequence can be specified (and also obtained). More about the Seq class can be found on BioPython's API. It is possible to convert the sequence to a string using Python's built in str command (e.g., str(my_sequence)). Some useful methods of Seq object include:*\n",
        "\n",
        "\n",
        "*   find: Find method, like that of a python string\n",
        "*   startswith: Does the Seq start with the given prefix?\n",
        "*   endswith: Does the Seq end with the given suffix?\n",
        "*   complement: Returns the complement sequence.\n",
        "*   reverse_complement: Returns the reverse complement sequence.\n",
        "*   transcribe: Returns the RNA sequence from a DNA sequence.\n",
        "*   back_transcribe: Returns the DNA sequence from a RNA sequence.\n",
        "*   translate: Turns a nucleotide sequence into a protein sequence.\n",
        "\n",
        "\n",
        "\n"
      ]
    },
    {
      "cell_type": "code",
      "metadata": {
        "colab": {
          "base_uri": "https://localhost:8080/"
        },
        "id": "C2zw2B9bBFAE",
        "outputId": "02d17076-6c3f-401f-cca7-53363033868d"
      },
      "source": [
        "from Bio.Seq import Seq \n",
        "\n",
        "# working with sequences \n",
        "my_seq = Seq(\"AGTACACTGGT\") \n",
        "print(\"sequence: \", my_seq) \n",
        "print(\"complement: \" + my_seq.complement())\n",
        "print(\"reverse complement: \" + my_seq.reverse_complement())\n",
        "print(\"transcribe: \" + my_seq.transcribe()) # my_rna = my_seq.transcribe()\n",
        "print(\"my_seq[2:4]: \" + my_seq[2:4]) #slicing\n",
        "print(\"back transcribe: \", my_seq.back_transcribe())\n",
        "print(\"translate: \", my_seq.translate())"
      ],
      "execution_count": 4,
      "outputs": [
        {
          "output_type": "stream",
          "name": "stdout",
          "text": [
            "sequence:  AGTACACTGGT\n",
            "complement: TCATGTGACCA\n",
            "reverse complement: ACCAGTGTACT\n",
            "transcribe: AGUACACUGGU\n",
            "my_seq[2:4]: TA\n",
            "back transcribe:  AGTACACTGGT\n",
            "translate:  STL\n"
          ]
        },
        {
          "output_type": "stream",
          "name": "stderr",
          "text": [
            "/usr/local/lib/python3.7/dist-packages/Bio/Seq.py:2983: BiopythonWarning: Partial codon, len(sequence) not a multiple of three. Explicitly trim the sequence or add trailing N before translation. This may become an error in future.\n",
            "  BiopythonWarning,\n"
          ]
        }
      ]
    },
    {
      "cell_type": "markdown",
      "metadata": {
        "id": "hRyB8-fAEB-6"
      },
      "source": [
        "*In the above example, we converted a simple string in Python to a sequence object, which allowed used to directly call built in functions of the Seq class. We could call these methods directly as well (e.g., transcribe(\"AGTACACTGGT\")). Also, we did not specify an Alphabet. BioPython provides generic alphabets in Bio.Alphabet. Specifying an alphabet can be useful for catching errors in a sequence, or specifying a particular type of sequence.*"
      ]
    },
    {
      "cell_type": "code",
      "metadata": {
        "colab": {
          "base_uri": "https://localhost:8080/"
        },
        "id": "auRh5EF3D01g",
        "outputId": "1e7defd2-00f4-4d1b-c474-4ce65822f882"
      },
      "source": [
        "# New style\n",
        "from Bio import SeqIO\n",
        "#from Bio.Alphabet import generic_rna,generic_dna\n",
        "messenger_rna = Seq(\"AUGGCCAUUGUAAUGGGCCGCUGAAAGGGUGCCCGAUAG\") \n",
        "messenger_rna.translate()"
      ],
      "execution_count": 8,
      "outputs": [
        {
          "output_type": "execute_result",
          "data": {
            "text/plain": [
              "Seq('MAIVMGR*KGAR*')"
            ]
          },
          "metadata": {},
          "execution_count": 8
        }
      ]
    },
    {
      "cell_type": "markdown",
      "metadata": {
        "id": "ApinHU0LF6Zy"
      },
      "source": [
        "GC content is a commonly used statistic to quantify a sequence. It is measured as the percentage of nucleotides from either guanine or cytosine. More formally, the GC-content of a sequence is given by: $$ \\textrm{GC-content} = 100\\times\\frac{N_G + N_C}{N_G + N_C + N_A + N_T} $$ where $N_G$, $N_C$, $N_A$, and $N_T$ are the counts for the nucleotides G, C, A and T, respectively. BioPython allows you to perform this calcuation using either GC or GC123. Note that GC simply calculates the GC-content; however, CG123 calculates total GC-content plus first, second and third positions' GC-content. Let us also take a moment to examine how to create plots with IPython and Python. If you're using the Python interpreter than you must use from matplotlib.pylab import *"
      ]
    },
    {
      "cell_type": "code",
      "metadata": {
        "colab": {
          "base_uri": "https://localhost:8080/",
          "height": 346
        },
        "id": "FUaUbqJkEME8",
        "outputId": "b5e504dd-7c3d-47af-d45e-2ecf7e26af71"
      },
      "source": [
        "from Bio.Seq import Seq \n",
        "from Bio.SeqUtils import GC123,GC,GC_skew\n",
        "from matplotlib.pylab import *\n",
        "seq = \"ataccaggctgaggcccattaatgatgcaatttgctgggcttctctattttctccgtgcttccatcctcttctccgtcggcggggagaagtgaaatgccgtggagatgggcggcggcggcggcgacggcggcgacgagaaagctcaccgggatctctcagtcgcgagtttcagtagcctttaccggccgtcttctctaccgctcgttcggaagcgactccagtgaaagccgcaagaggtcactgccacggggggtcgtatcgatcggggccatcagccttgctggaggtctcgtgctcagcgccgtcaacgacctcgccatcttcaatggatgcacaacgaaggcaattgagcatgctgctgacaaccctgctgttgtggaagcaattggagtgcctatagtcagaggaccgtggtatgatgcttctcttgaggtgggccatcgacggcggtctgtgtcatgcacattccctgtatctgggccacatgggtcaggatttctccagattaaggcaacccgagatggagaggatggtctgctttcgtttctgcggcatcacgactggaagatcctattgctggaggctcatcttgaagcaccatcagatgatgaggaccagagaaagctggttaaggtgaatcttgcaagcagtggccgtggggaagatggggatccagagagtggttaatcttttgtactgaattccatggtgagtggaagatcgtgtcatctgaatggactccaaatattaaatgacatggagatctagggaagcaaaaaaaaaaaaaaaa\"\n",
        "print(GC123(seq))\n",
        "print(GC(seq))\n",
        "\n",
        "plot(GC_skew(seq, window=100),c=\"r\")\n",
        "xlabel(\"Window\")\n",
        "ylabel(\"(G-C)/(G+C)\")\n",
        "title(\"GC-skew\")"
      ],
      "execution_count": 10,
      "outputs": [
        {
          "output_type": "stream",
          "name": "stdout",
          "text": [
            "(52.97092288242731, 51.89393939393939, 57.57575757575758, 49.42965779467681)\n",
            "52.97092288242731\n"
          ]
        },
        {
          "output_type": "execute_result",
          "data": {
            "text/plain": [
              "Text(0.5, 1.0, 'GC-skew')"
            ]
          },
          "metadata": {},
          "execution_count": 10
        },
        {
          "output_type": "display_data",
          "data": {
            "image/png": "[encoded data removed]",
            "text/plain": [
              "<Figure size 432x288 with 1 Axes>"
            ]
          },
          "metadata": {
            "needs_background": "light"
          }
        }
      ]
    },
    {
      "cell_type": "markdown",
      "metadata": {
        "id": "MAvmLz5mH-dL"
      },
      "source": [
        "*We can also go directly from DNA to amino acids using the translate command.*"
      ]
    },
    {
      "cell_type": "code",
      "metadata": {
        "colab": {
          "base_uri": "https://localhost:8080/"
        },
        "id": "FKX-D_V6Hqrv",
        "outputId": "932b05ce-1e5f-43fb-ead6-5f43859a081a"
      },
      "source": [
        "print(\"translate: \" + Seq(seq).translate())\n",
        "print() # my_rna = my_seq.transcribe()"
      ],
      "execution_count": 13,
      "outputs": [
        {
          "output_type": "stream",
          "name": "stdout",
          "text": [
            "translate: IPG*GPLMMQFAGLLYFLRASILFSVGGEK*NAVEMGGGGGDGGDEKAHRDLSVASFSSLYRPSSLPLVRKRLQ*KPQEVTATGGRIDRGHQPCWRSRAQRRQRPRHLQWMHNEGN*ACC*QPCCCGSNWSAYSQRTVV*CFS*GGPSTAVCVMHIPCIWATWVRISPD*GNPRWRGWSAFVSAASRLEDPIAGGSS*STIR**GPEKAG*GESCKQWPWGRWGSREWLIFCTEFHGEWKIVSSEWTPNIK*HGDLGKQKKKK\n",
            "\n"
          ]
        },
        {
          "output_type": "stream",
          "name": "stderr",
          "text": [
            "/usr/local/lib/python3.7/dist-packages/Bio/Seq.py:2983: BiopythonWarning: Partial codon, len(sequence) not a multiple of three. Explicitly trim the sequence or add trailing N before translation. This may become an error in future.\n",
            "  BiopythonWarning,\n"
          ]
        }
      ]
    },
    {
      "cell_type": "markdown",
      "metadata": {
        "id": "GszHjGumJurY"
      },
      "source": [
        "# **Basic FileIO**\n",
        "\n",
        "*Different tools in bioinformatics use different standards for containing thier data. For example, GenBank, Fasta, and Biom are all file formats used to storge biological data. BioPython contains several builtin modules for interfacing with theses different file formats using the SeqIO class. In this section, we examine converting between file formats as well as manipulating the variables in the SeqIO class.*\n",
        "\n",
        "*Let us take a moment to talk about the SeqRecord object in BioPython. We learned that sequences in BioPython are stored in a a Seq object, which contained some handy functions such as translation. We can create a more detailed record that contains a seqence ID, name, the raw sequence, etc. Such a more detailed stucture can be found in the SeqRecord class. SeqRecord contains a sequence (as a Seq object) with identifiers (ID and name), description and optionally annotation and sub-features. The SeqIO system will only return SeqRecord objects.*"
      ]
    },
    {
      "cell_type": "markdown",
      "metadata": {
        "id": "9AdGOSdCKJON"
      },
      "source": [
        "*SeqIO contains a parse function that can readily handle GenBank and Fasta formats. We have a fasta file in \"/content\" which contains 94 sequences, or records. We can read in the iterable set of sequence records into a dictionary with the key being the id and the value being the sequence. In code this translates to:*"
      ]
    },
    {
      "cell_type": "code",
      "metadata": {
        "colab": {
          "base_uri": "https://localhost:8080/"
        },
        "id": "SfdTm46qJUOr",
        "outputId": "a0db773e-e97b-4e99-e2a6-1dd35425f5b8"
      },
      "source": [
        "from Bio import SeqIO\n",
        "\n",
        "# we can parse the fasta file and read the sequences in by looping over \n",
        "# the iterator returned by SeqIO.parse()\n",
        "sequences = {}  # empty dictionary \n",
        "for seq_record in SeqIO.parse(\"/content/ls_orchid.fasta\", \"fasta\"):\n",
        "    sequences[seq_record.id] = seq_record.seq\n",
        "\n",
        "# an alternative way to do this can be done with one line of code\n",
        "sequences2 = {s.id:s.seq for s in SeqIO.parse(\"/content/ls_orchid.fasta\", \"fasta\")}\n",
        "\n",
        "print(list(sequences2.keys())[0])\n",
        "print(sequences2[list(sequences2.keys())[0]])  # print the first sequence"
      ],
      "execution_count": 20,
      "outputs": [
        {
          "output_type": "stream",
          "name": "stdout",
          "text": [
            "gi|2765658|emb|Z78533.1|CIZ78533\n",
            "CGTAACAAGGTTTCCGTAGGTGAACCTGCGGAAGGATCATTGATGAGACCGTGGAATAAACGATCGAGTGAATCCGGAGGACCGGTGTACTCAGCTCACCGGGGGCATTGCTCCCGTGGTGACCCTGATTTGTTGTTGGGCCGCCTCGGGAGCGTCCATGGCGGGTTTGAACCTCTAGCCCGGCGCAGTTTGGGCGCCAAGCCATATGAAAGCATCACCGGCGAATGGCATTGTCTTCCCCAAAACCCGGAGCGGCGGCGTGCTGTCGCGTGCCCAATGAATTTTGATGACTCTCGCAAACGGGAATCTTGGCTCTTTGCATCGGATGGAAGGACGCAGCGAAATGCGATAAGTGGTGTGAATTGCAAGATCCCGTGAACCATCGAGTCTTTTGAACGCAAGTTGCGCCCGAGGCCATCAGGCTAAGGGCACGCCTGCTTGGGCGTCGCGCTTCGTCTCTCTCCTGCCAATGCTTGCCCGGCATACAGCCAGGCCGGCGTGGTGCGGATGTGAAAGATTGGCCCCTTGTGCCTAGGTGCGGCGGGTCCAAGAGCTGGTGTTTTGATGGCCCGGAACCCGGCAAGAGGTGGACGGATGCTGGCAGCAGCTGCCGTGCGAATCCCCCATGTTGTCGTGCTTGTCGGACAGGCAGGAGAACCCTTCCGAACCCCAATGGAGGGCGGTTGACCGCCATTCGGATGTGACCCCAGGTCAGGCGGGGGCACCCGCTGAGTTTACGC\n"
          ]
        }
      ]
    },
    {
      "cell_type": "markdown",
      "metadata": {
        "id": "aFzHYS5bM-qd"
      },
      "source": [
        "*We can also read in Genbank files as well.*"
      ]
    },
    {
      "cell_type": "code",
      "metadata": {
        "colab": {
          "base_uri": "https://localhost:8080/"
        },
        "id": "US1JorCVL_GX",
        "outputId": "d324c827-585b-4c4e-de8b-10b2dbaf978d"
      },
      "source": [
        "# simple conversion from GB to a fasta file\n",
        "records = SeqIO.parse(\"/content/ls_orchid.gbk\", \"genbank\")\n",
        "count = SeqIO.write(records, \"/content/my_example.fasta\", \"fasta\")\n",
        "\n",
        "# read in the sequences from the GB file. note that this is nearly identical to when we \n",
        "# performed this task with the fasta file in the previous code block\n",
        "sequences = {s.id:s.seq for s in SeqIO.parse(\"/content/ls_orchid.gbk\", \"genbank\")}\n",
        "\n",
        "record = SeqIO.read(\"/content/ls_orchid.gbk\", 'gb')\n",
        "print(\"locus = \" + record.name)\n",
        "print(\"definition = \" + record.description)\n",
        "print(\"version = \" + record.id)\n",
        "print(\"seq = \" + record.seq)\n",
        "print()"
      ],
      "execution_count": 25,
      "outputs": [
        {
          "output_type": "stream",
          "name": "stdout",
          "text": [
            "locus = Z78533\n",
            "definition = C.irapeanum 5.8S rRNA gene and ITS1 and ITS2 DNA\n",
            "version = Z78533.1\n",
            "seq = CGTAACAAGGTTTCCGTAGGTGAACCTGCGGAAGGATCATTGATGAGACCGTGGAATAAACGATCGAGTGAATCCGGAGGACCGGTGTACTCAGCTCACCGGGGGCATTGCTCCCGTGGTGACCCTGATTTGTTGTTGGGCCGCCTCGGGAGCGTCCATGGCGGGTTTGAACCTCTAGCCCGGCGCAGTTTGGGCGCCAAGCCATATGAAAGCATCACCGGCGAATGGCATTGTCTTCCCCAAAACCCGGAGCGGCGGCGTGCTGTCGCGTGCCCAATGAATTTTGATGACTCTCGCAAACGGGAATCTTGGCTCTTTGCATCGGATGGAAGGACGCAGCGAAATGCGATAAGTGGTGTGAATTGCAAGATCCCGTGAACCATCGAGTCTTTTGAACGCAAGTTGCGCCCGAGGCCATCAGGCTAAGGGCACGCCTGCTTGGGCGTCGCGCTTCGTCTCTCTCCTGCCAATGCTTGCCCGGCATACAGCCAGGCCGGCGTGGTGCGGATGTGAAAGATTGGCCCCTTGTGCCTAGGTGCGGCGGGTCCAAGAGCTGGTGTTTTGATGGCCCGGAACCCGGCAAGAGGTGGACGGATGCTGGCAGCAGCTGCCGTGCGAATCCCCCATGTTGTCGTGCTTGTCGGACAGGCAGGAGAACCCTTCCGAACCCCAATGGAGGGCGGTTGACCGCCATTCGGATGTGACCCCAGGTCAGGCGGGGGCACCCGCTGAGTTTACGC\n",
            "\n"
          ]
        },
        {
          "output_type": "stream",
          "name": "stderr",
          "text": [
            "/usr/local/lib/python3.7/dist-packages/Bio/GenBank/Scanner.py:1219: BiopythonParserWarning: Premature end of file in sequence data\n",
            "  \"Premature end of file in sequence data\", BiopythonParserWarning\n"
          ]
        }
      ]
    },
    {
      "cell_type": "code",
      "metadata": {
        "colab": {
          "base_uri": "https://localhost:8080/"
        },
        "id": "YCggdpWhNlle",
        "outputId": "a8803420-d406-4ab1-b643-3890225571aa"
      },
      "source": [
        "%%bash \n",
        "cat /content/my_example.fasta | head -20"
      ],
      "execution_count": 26,
      "outputs": [
        {
          "output_type": "stream",
          "name": "stdout",
          "text": [
            ">Z78533.1 C.irapeanum 5.8S rRNA gene and ITS1 and ITS2 DNA\n",
            "CGTAACAAGGTTTCCGTAGGTGAACCTGCGGAAGGATCATTGATGAGACCGTGGAATAAA\n",
            "CGATCGAGTGAATCCGGAGGACCGGTGTACTCAGCTCACCGGGGGCATTGCTCCCGTGGT\n",
            "GACCCTGATTTGTTGTTGGGCCGCCTCGGGAGCGTCCATGGCGGGTTTGAACCTCTAGCC\n",
            "CGGCGCAGTTTGGGCGCCAAGCCATATGAAAGCATCACCGGCGAATGGCATTGTCTTCCC\n",
            "CAAAACCCGGAGCGGCGGCGTGCTGTCGCGTGCCCAATGAATTTTGATGACTCTCGCAAA\n",
            "CGGGAATCTTGGCTCTTTGCATCGGATGGAAGGACGCAGCGAAATGCGATAAGTGGTGTG\n",
            "AATTGCAAGATCCCGTGAACCATCGAGTCTTTTGAACGCAAGTTGCGCCCGAGGCCATCA\n",
            "GGCTAAGGGCACGCCTGCTTGGGCGTCGCGCTTCGTCTCTCTCCTGCCAATGCTTGCCCG\n",
            "GCATACAGCCAGGCCGGCGTGGTGCGGATGTGAAAGATTGGCCCCTTGTGCCTAGGTGCG\n",
            "GCGGGTCCAAGAGCTGGTGTTTTGATGGCCCGGAACCCGGCAAGAGGTGGACGGATGCTG\n",
            "GCAGCAGCTGCCGTGCGAATCCCCCATGTTGTCGTGCTTGTCGGACAGGCAGGAGAACCC\n",
            "TTCCGAACCCCAATGGAGGGCGGTTGACCGCCATTCGGATGTGACCCCAGGTCAGGCGGG\n",
            "GGCACCCGCTGAGTTTACGC\n"
          ]
        }
      ]
    },
    {
      "cell_type": "markdown",
      "metadata": {
        "id": "VTgevfPDQzjC"
      },
      "source": [
        "# **Accessing the Entrez Database**\n",
        "\n",
        "*We can also search....*"
      ]
    },
    {
      "cell_type": "code",
      "metadata": {
        "id": "fAO3QvvjQok-"
      },
      "source": [
        "from Bio import Entrez \n",
        "from Bio.SeqRecord import SeqRecord\n",
        "\n",
        "terms = [\"cytochrome oxidase i AND viridiplantae[Organism] and 450:2000[Sequence Length]\",\n",
        "         \"cytochrome oxidase i AND fungi[Organism] and 450:2000[Sequence Length]\",\n",
        "         \"cytochrome oxidase i AND animalia[Organism] and 450:2000[Sequence Length]\"\n",
        "         ]\n",
        "Entrez.email = \"ayanbabusona@gmail.com\"   # you should put your email in here!"
      ],
      "execution_count": 27,
      "outputs": []
    },
    {
      "cell_type": "code",
      "metadata": {
        "colab": {
          "base_uri": "https://localhost:8080/"
        },
        "id": "WaT4G22tRIU8",
        "outputId": "28fe0890-daad-41f6-abfa-ed101a0d2eae"
      },
      "source": [
        "top_records = []\n",
        "for term in terms:  # I could do this in 1 line if I wanted to!\n",
        "    handle = Entrez.esearch(db=\"nucleotide\", term=term)\n",
        "    top_records.append(Entrez.read(handle)[\"IdList\"][0])\n",
        "\n",
        "handle = Entrez.efetch(db=\"nucleotide\", id=\",\".join(top_records), rettype=\"gb\", retmode=\"xml\")\n",
        "genbank_records = Entrez.read(handle)\n",
        "print(\"First Genbank record keys: \" + str(genbank_records[0].keys()))\n",
        "print()\n",
        "print(\"First Genbank sequence (\" + genbank_records[0][\"GBSeq_primary-accession\"] + \"): \" + genbank_records[0][\"GBSeq_sequence\"])"
      ],
      "execution_count": 29,
      "outputs": [
        {
          "output_type": "stream",
          "name": "stdout",
          "text": [
            "First Genbank record keys: dict_keys(['GBSeq_locus', 'GBSeq_length', 'GBSeq_strandedness', 'GBSeq_moltype', 'GBSeq_topology', 'GBSeq_division', 'GBSeq_update-date', 'GBSeq_create-date', 'GBSeq_definition', 'GBSeq_primary-accession', 'GBSeq_accession-version', 'GBSeq_other-seqids', 'GBSeq_source', 'GBSeq_organism', 'GBSeq_taxonomy', 'GBSeq_references', 'GBSeq_feature-table', 'GBSeq_sequence'])\n",
            "\n",
            "First Genbank sequence (EU165029): cagtattaatacgcatggaactagcgcaaccaggtgatcaaattcttggtgggaatcatcagctttataatgtgttaatcacggctcacgcttttctcatgatattttttatggttatgccggcggtgatcggtggatttgggaattggttcgttccgattcttataggtgcacctgacatggcattcccgcgattaaataatatttccttttggttgttgccaccttcgctgctgctctcattaagctcagccctggtagaagtaggtggcggcactgggtggacggtatatccgcccctaagtggtattaccagtcattccgggggagctgttgatccagcaatttctagtctccatccatcaggcgtttcatccattttaggtgctatcaatttcataacgactatctttaacatgcgcgggcctggaatgactatgcatagattacctctctttgtgtggtccgttttagtgaccgcgttcccactcttattatcacttccagtacttgcgggggcaattaccatgttattaaccgatcgaaactttaatactaccttttccgatcctgctggagggggagacccgatcttataccagcatctcttttggttcttcggtcatccagaggtttatattctgattctgcctggattcggtatcattagtcatatcgtatcgactttttcgggaaaaccggtcttcgggtatctaggcatggtttatgccatgatcagtattggtgttctcggatttcctgttcgggcccatcatatgtttactgtgggcttagacgttgatacgcgtgcttactctaccgcagctaccatgatcacagctgtccccaccggaatcaaaatctttagttggatcgctaccatgtggggaggttcgatacgatacaaaacaccaatgttatttgctgtagggttcatccctccgttcaccataggaggacttactggaatagtgccggcaaattccgggctagacattgctctgcatgatacttatcacgtggttgcacattcccattatgtactttctatgggagccgtttctgcttcatctgctggatcttattttcgggtcggtaaaatttctggtcgagcataccctgaaactttaggtcaaatccatttttggatcactttcttcggggtgaatctgaccttctttcccatgcatttcttggggctctcgggtatgccacgtcgcattccagattatccagatgcttacgctggatggaatgcccttagcagtttcggctcttatgtatccgtagttgggatttgtcgtttcttcgtggtcgtaacaatcactttaagcggtggaaacagctttcgatgtgctccaagtccctgggctgttgagcagagtccaaccacactggaatggatggtaca\n"
          ]
        }
      ]
    },
    {
      "cell_type": "code",
      "metadata": {
        "id": "ehkCqLytRti3"
      },
      "source": [
        "fasta_records = []\n",
        "for record in genbank_records:\n",
        "    seq_record = SeqRecord(Seq(record[\"GBSeq_sequence\"]), id=record[\"GBSeq_primary-accession\"], description=record[\"GBSeq_definition\"])\n",
        "    fasta_records.append(seq_record)"
      ],
      "execution_count": 30,
      "outputs": []
    },
    {
      "cell_type": "code",
      "metadata": {
        "id": "GgllX-ovSANs"
      },
      "source": [
        "with open(\"/content/my_seqs.fa\",\"w\") as fasta_file:\n",
        "    SeqIO.write(fasta_records, fasta_file, \"fasta\")"
      ],
      "execution_count": 31,
      "outputs": []
    },
    {
      "cell_type": "code",
      "metadata": {
        "colab": {
          "base_uri": "https://localhost:8080/"
        },
        "id": "AfxOnErKSt9h",
        "outputId": "56e41b5e-7e5b-4f58-96c8-4d721542a50e"
      },
      "source": [
        "%%bash \n",
        "cat ../data/my_seqs.fa"
      ],
      "execution_count": 32,
      "outputs": [
        {
          "output_type": "stream",
          "name": "stderr",
          "text": [
            "cat: ../data/my_seqs.fa: No such file or directory\n"
          ]
        }
      ]
    },
    {
      "cell_type": "markdown",
      "metadata": {
        "id": "UC_LZRjgS4BO"
      },
      "source": [
        "# **BLAST**\n",
        "\n",
        "*BLAST can be run with BioPython either from using the command line tools -- provided they are installed -- or through the web. In this section, we use the qblast from the Bio.Blast.NCBIWWW module to call the online version of BLAST. Note that the results would be the same if we were to use the command line tools. As pointed out from the qblast documentation, there are three required arguments:*\n",
        "\n",
        "*   *The first argument is the blast program to use for the search, as a lower case string. The options and descriptions of the programs are available at http://www.ncbi.nlm.nih.gov/BLAST/blast_program.shtml. Currently qblast only works with blastn, blastp, blastx, tblast and tblastx.*\n",
        "*   *The second argument specifies the database in which to perform the search. Again, the options for this are available on the NCBI web pages at http://www.ncbi.nlm.nih.gov/BLAST/blast_databases.shtml.*\n",
        "*   *The third argument is a string containing your query sequence. This can either be the sequence itself, the sequence in fasta format, or an identifier like a GI number.*\n",
        "\n",
        "The default output format for qblast is XML; however, we shall use other methods in BioPython to convert the results in the XML file to a more interpretable and managable output.\n",
        "\n",
        "\n"
      ]
    },
    {
      "cell_type": "code",
      "metadata": {
        "colab": {
          "base_uri": "https://localhost:8080/"
        },
        "id": "jGOU3h_cSyEy",
        "outputId": "128cdaf8-c6de-4204-aee0-bf666ccc6dc9"
      },
      "source": [
        "from Bio.Blast import NCBIWWW, NCBIXML\n",
        "\n",
        "E_VALUE_THRESH = 0.01\n",
        "s_len = 100\n",
        "\n",
        "# search against the nucleotide database (nt) using BLASTN, and you know the GI number \n",
        "result_handle = NCBIWWW.qblast(\"blastn\", \"nt\", \"8332116\") # 449020131, 8332116\n",
        "blast_records = NCBIXML.read(result_handle) \n",
        "\n",
        "for alignment in blast_records.alignments[:5]:\n",
        "    for hsp in alignment.hsps: \n",
        "        if hsp.expect < E_VALUE_THRESH: \n",
        "            print(\"****Alignment****\")\n",
        "            print(\"sequence:\", alignment.title) \n",
        "            print(\"length:\", alignment.length) \n",
        "            print(\"e value:\", hsp.expect)\n",
        "            print(hsp.query[0:s_len] + \"...\")\n",
        "            print(hsp.match[0:s_len] + \"...\")\n",
        "            print(hsp.sbjct[0:s_len] + \"...\")"
      ],
      "execution_count": 33,
      "outputs": [
        {
          "output_type": "stream",
          "name": "stdout",
          "text": [
            "****Alignment****\n",
            "sequence: gi|1219041180|ref|XM_021875076.1| PREDICTED: Chenopodium quinoa cold-regulated 413 plasma membrane protein 2-like (LOC110697660), mRNA\n",
            "length: 1173\n",
            "e value: 3.44122e-117\n",
            "ACAGAAAATGGGGAGAGAAATGAAGTACTTGGCCATGAAAACTGATCAATTGGCCGTGGCTAATATGATCGATTCCGATATCAATGAGCTTAAAATGGCA...\n",
            "|| ||||||||| |||| | |||| ||  |||| |||| | |||| ||| | |||| ||| ||| ||||| | ||||| ||||||||||| || || |  ...\n",
            "ACCGAAAATGGGCAGAGGAGTGAATTATATGGCAATGACACCTGAGCAACTAGCCGCGGCCAATTTGATCAACTCCGACATCAATGAGCTCAAGATCGTT...\n",
            "****Alignment****\n",
            "sequence: gi|1226796956|ref|XM_021992092.1| PREDICTED: Spinacia oleracea cold-regulated 413 plasma membrane protein 2-like (LOC110787470), mRNA\n",
            "length: 672\n",
            "e value: 2.17165e-113\n",
            "AAAATGGGGAGAGAAATGAAGTACTTGGCCATGAAAACTGATCAATTGGCCGTGGCTAATATGATCGATTCCGATATCAATGAGCTTAAAATGGCAACAA...\n",
            "|||||||| |||  |||| | || ||||| |||||||| || ||||| |||| ||| ||| ||||||||||||||||||| ||||| || || ||    |...\n",
            "AAAATGGGTAGACGAATGGATTATTTGGCGATGAAAACCGAGCAATTAGCCGCGGCCAATTTGATCGATTCCGATATCAACGAGCTGAAGATCGCCGTGA...\n",
            "****Alignment****\n",
            "sequence: gi|731339628|ref|XM_010682658.1| PREDICTED: Beta vulgaris subsp. vulgaris cold-regulated 413 plasma membrane protein 2 (LOC104895996), mRNA\n",
            "length: 847\n",
            "e value: 5.82733e-108\n",
            "TTGGCCATGAAAACTGATCAATTGGCCGTGGCTAATATGATCGATTCCGATATCAATGAGCTTAAAATGGCAACAATGAGGCTCATCAATGATGCTAGTA...\n",
            "||||||||||||||||| ||| ||||  |||||||| |||| ||||  ||||| ||||| ||||| || ||    |    | | ||  ||||||||  ||...\n",
            "TTGGCCATGAAAACTGAGCAAATGGCGTTGGCTAATTTGATAGATTATGATATGAATGAACTTAAGATCGCTTTGACATCGTTAATTCATGATGCTGCTA...\n",
            "****Alignment****\n",
            "sequence: gi|2031543140|ref|XM_041168865.1| PREDICTED: Juglans microcarpa x Juglans regia cold-regulated 413 plasma membrane protein 2-like (LOC121265293), mRNA\n",
            "length: 1020\n",
            "e value: 8.64853e-106\n",
            "AATGGGGAGAGAAATGAAGTACTTGGCCATGAAAACTGATCAATTGGCCGTGGCTAATATGATCGATTCCGATATCAATGAGCTTAAAATGGCAACAATG...\n",
            "||||||||| |||  | |  | |||||||||||||||||||    ||||  |||  || ||||||| || |||| ||| || || || || ||  ||| |...\n",
            "AATGGGGAG-GAA--GGATAATTTGGCCATGAAAACTGATCC---GGCCACGGCGGATTTGATCGACTCTGATAACAAAGAACTCAAGATCGCCGCAAAG...\n",
            "****Alignment****\n",
            "sequence: gi|1389679838|ref|XM_016034586.2| PREDICTED: Ziziphus jujuba cold-regulated 413 plasma membrane protein 2-like (LOC107424728), mRNA\n",
            "length: 946\n",
            "e value: 3.01863e-105\n",
            "AAAATGGGGAGAGAAATGAAGTACTTGGCCATGAAAACTGATCAATTGGCCGTGGCTAATATGATCGATTCCGATATCAATGAGCTTAAAATGGCAACAA...\n",
            "|||||||||||    ||| |||  ||||| |||| |||||||| |   |||  |||| |  ||||  |||| |||||||||||||||||  | ||| | |...\n",
            "AAAATGGGGAGG---ATGGAGTTTTTGGCTATGAGAACTGATCCA---GCCACGGCTGACTTGATAAATTCTGATATCAATGAGCTTAAGGTTGCAGCCA...\n"
          ]
        }
      ]
    },
    {
      "cell_type": "markdown",
      "metadata": {
        "id": "1QgjIfbjUoSi"
      },
      "source": [
        "*Similarly, we can directly BLAST our sequence if we have it in the Python environment. BioPython is smart enough to pick up on how the third argument should be interpreted for BLASTing.*"
      ]
    },
    {
      "cell_type": "code",
      "metadata": {
        "colab": {
          "base_uri": "https://localhost:8080/"
        },
        "id": "L92VQ532UQLF",
        "outputId": "5ed95cdc-02b9-4f63-925d-a3286b0d3091"
      },
      "source": [
        "seq = \"ataccaggctgaggcccattaatgatgcaatttgctgggcttctctattttctccgtgcttccatcctcttctccgtcggcggggagaagtgaaatgccgtggagatgggcggcggcggcggcgacggcggcgacgagaaagctcaccgggatctctcagtcgcgagtttcagtagcctttaccggccgtcttctctaccgctcgttcggaagcgactccagtgaaagccgcaagaggtcactgccacggggggtcgtatcgatcggggccatcagccttgctggaggtctcgtgctcagcgccgtcaacgacctcgccatcttcaatggatgcacaacgaaggcaattgagcatgctgctgacaaccctgctgttgtggaagcaattggagtgcctatagtcagaggaccgtggtatgatgcttctcttgaggtgggccatcgacggcggtctgtgtcatgcacattccctgtatctgggccacatgggtcaggatttctccagattaaggcaacccgagatggagaggatggtctgctttcgtttctgcggcatcacgactggaagatcctattgctggaggctcatcttgaagcaccatcagatgatgaggaccagagaaagctggttaaggtgaatcttgcaagcagtggccgtggggaagatggggatccagagagtggttaatcttttgtactgaattccatggtgagtggaagatcgtgtcatctgaatggactccaaatattaaatgacatggagatctagggaagcaaaaaaaaaaaaaaaa \"\n",
        "result_handle = NCBIWWW.qblast(\"blastn\", \"nt\", seq) \n",
        "blast_records = NCBIXML.read(result_handle) \n",
        "\n",
        "for alignment in blast_records.alignments[:5]:\n",
        "    for hsp in alignment.hsps: \n",
        "        if hsp.expect < E_VALUE_THRESH: \n",
        "            print(\"****Alignment****\")\n",
        "            print(\"sequence:\", alignment.title) \n",
        "            print(\"length:\", alignment.length) \n",
        "            print(\"e value:\", hsp.expect) \n",
        "            print(hsp.query[0:s_len] + \"...\") \n",
        "            print(hsp.match[0:s_len] + \"...\") \n",
        "            print(hsp.sbjct[0:s_len] + \"...\")"
      ],
      "execution_count": 34,
      "outputs": [
        {
          "output_type": "stream",
          "name": "stdout",
          "text": [
            "****Alignment****\n",
            "sequence: gi|195621403|gb|EU960414.1| Zea mays clone 224719 hypothetical protein mRNA, complete cds\n",
            "length: 791\n",
            "e value: 0.0\n",
            "ATACCAGGCTGAGGCCCATTAATGATGCAATTTGCTGGGCTTCTCTATTTTCTCCGTGCTTCCATCCTCTTCTCCGTCGGCGGGGAGAAGTGAAATGCCG...\n",
            "||||||||||||||||||||||||||||||||||||||||||||||||||||||||||||||||||||||||||||||||||||||||||||||||||||...\n",
            "ATACCAGGCTGAGGCCCATTAATGATGCAATTTGCTGGGCTTCTCTATTTTCTCCGTGCTTCCATCCTCTTCTCCGTCGGCGGGGAGAAGTGAAATGCCG...\n",
            "****Alignment****\n",
            "sequence: gi|1736642166|ref|NM_001374097.1| Zea mays uncharacterized LOC100276165 (LOC100276165), mRNA\n",
            "length: 1037\n",
            "e value: 0.0\n",
            "ATACCAGGCTGAGGCCCATTAATGATGCAATTTGCTGGGCTTCTCTATTTTCTCCGTGCTTCCATCCTCTTCTCCGTCGGCGGGGAGAAGTGAAATGCCG...\n",
            "|||||||||||||||||||||||||||||||||||||||||||| |||||||||||||||||||||||||||||||||||||||||||||||||||||||...\n",
            "ATACCAGGCTGAGGCCCATTAATGATGCAATTTGCTGGGCTTCTTTATTTTCTCCGTGCTTCCATCCTCTTCTCCGTCGGCGGGGAGAAGTGAAATGCCG...\n",
            "****Alignment****\n",
            "sequence: gi|1205933521|ref|XM_002459830.2| PREDICTED: Sorghum bicolor uncharacterized LOC8062580 (LOC8062580), mRNA\n",
            "length: 1008\n",
            "e value: 0.0\n",
            "ACCAGGCTGAGGCCCATTAATGATGCAATTTGCTGGGCTTCTCTATTTTCT--CCGTGCTTCCATCCTCTTCT-------CCGTCGGCGGGGAGAAGTGA...\n",
            "||||| |||||||||||||| ||||||||||||||||| ||  | |||| |  |||||| |||||||||||||       ||||||||||||||||||||...\n",
            "ACCAGCCTGAGGCCCATTAACGATGCAATTTGCTGGGCCTCCATTTTTTTTTCCCGTGCCTCCATCCTCTTCTGTCTTCTCCGTCGGCGGGGAGAAGTGA...\n",
            "****Alignment****\n",
            "sequence: gi|1205933521|ref|XM_002459830.2| PREDICTED: Sorghum bicolor uncharacterized LOC8062580 (LOC8062580), mRNA\n",
            "length: 1008\n",
            "e value: 1.10295e-07\n",
            "TGTACTGAATTCCATGGTGAGTGGAAGATCGTGTCATCTGAATGGACTCCAAATATTAA...\n",
            "||||||| ||||||||| | | ||  ||| |||||||||||||||| ||||||||||||...\n",
            "TGTACTGTATTCCATGGAGGGCGGGTGATTGTGTCATCTGAATGGATTCCAAATATTAA...\n",
            "****Alignment****\n",
            "sequence: gi|1999312933|ref|XM_039952355.1| PREDICTED: Panicum virgatum probable serine/threonine-protein kinase PBL23 (LOC120672061), mRNA\n",
            "length: 2779\n",
            "e value: 0.0\n",
            "GCTGAGGCCCATTAATGATGCAATTTGCTGGGCTTCTCTATTTTCTCCGTGCTTCCATCCTCTTCTCCGTCGGCGGGGAGAAGTGAAATGCCGTGGAGAT...\n",
            "|| |||||||||||| ||||||||||||||| |||   | | || ||||||   || || ||| |||||||| ||| || |||| ||||| || ||    ...\n",
            "GCCGAGGCCCATTAACGATGCAATTTGCTGGCCTTTGTTCTCTT-TCCGTGTCCCCCTCTTCTCCTCCGTCGCCGGAGAAAAGTCAAATGTCGAGG----...\n",
            "****Alignment****\n",
            "sequence: gi|1435123626|ref|XM_025945033.1| PREDICTED: Panicum hallii uncharacterized LOC112880421 (LOC112880421), transcript variant X1, mRNA\n",
            "length: 877\n",
            "e value: 2.41018e-174\n",
            "GAGGCCCATTAATGATGCAATTTGCTGGGCTTCTCTATTTTCTCCGTGCTTCCATCCTCTTCTCCGTCGGCGG-GGAGAAGTGAAATGCCGTGGAGATGG...\n",
            "|||||||||||| ||||||||||||||  ||||  | |||| || |||| ||| |||||||||||  || ||  ||||||   || | || ||  || ||...\n",
            "GAGGCCCATTAACGATGCAATTTGCTGTCCTTCATTCTTTT-TCGGTGCCTCCTTCCTCTTCTCCTCCGTCGCCGGAGAA---AAGTCCCATGTCGA-GG...\n"
          ]
        }
      ]
    },
    {
      "cell_type": "markdown",
      "metadata": {
        "id": "7Hv3zqMHVIMK"
      },
      "source": [
        "# **Phylogenetic Trees**"
      ]
    },
    {
      "cell_type": "code",
      "metadata": {
        "colab": {
          "base_uri": "https://localhost:8080/",
          "height": 738
        },
        "id": "_j_TFfrdU655",
        "outputId": "b743d8af-82f9-4066-b749-f68661ace75b"
      },
      "source": [
        "from Bio import Phylo \n",
        "tree = Phylo.read(\"/content/simple.dnd\", \"newick\")\n",
        "print(tree)\n",
        "Phylo.draw_ascii(tree)\n",
        "tree.rooted = True \n",
        "Phylo.draw(tree)"
      ],
      "execution_count": 36,
      "outputs": [
        {
          "output_type": "stream",
          "name": "stdout",
          "text": [
            "Tree(rooted=False, weight=1.0)\n",
            "    Clade()\n",
            "        Clade()\n",
            "            Clade()\n",
            "                Clade(name='A')\n",
            "                Clade(name='B')\n",
            "            Clade()\n",
            "                Clade(name='C')\n",
            "                Clade(name='D')\n",
            "        Clade()\n",
            "            Clade(name='E')\n",
            "            Clade(name='F')\n",
            "            Clade(name='G')\n",
            "                                                    ________________________ A\n",
            "                           ________________________|\n",
            "                          |                        |________________________ B\n",
            "  ________________________|\n",
            " |                        |                         ________________________ C\n",
            " |                        |________________________|\n",
            "_|                                                 |________________________ D\n",
            " |\n",
            " |                         ________________________ E\n",
            " |                        |\n",
            " |________________________|________________________ F\n",
            "                          |\n",
            "                          |________________________ G\n",
            "\n"
          ]
        },
        {
          "output_type": "display_data",
          "data": {
            "image/png": "[encoded data removed]",
            "text/plain": [
              "<Figure size 432x288 with 1 Axes>"
            ]
          },
          "metadata": {
            "needs_background": "light"
          }
        }
      ]
    },
    {
      "cell_type": "code",
      "metadata": {
        "colab": {
          "base_uri": "https://localhost:8080/",
          "height": 541
        },
        "id": "BmkjHkKcVmrM",
        "outputId": "8457b9e5-5310-4f3e-ae78-b7b178485954"
      },
      "source": [
        "from Bio.Phylo.PhyloXML import Phylogeny \n",
        "tree = tree.as_phyloxml() \n",
        "tree = Phylogeny.from_tree(tree)\n",
        "tree.root.color = (128, 128, 128) \n",
        "mrca = tree.common_ancestor({\"name\": \"E\"}, {\"name\": \"F\"}) \n",
        "mrca.color = \"salmon\" \n",
        "tree.clade[0, 1].color = \"blue\" \n",
        "Phylo.draw(tree, branch_labels=lambda c: c.branch_length) \n",
        "Phylo.draw(tree)"
      ],
      "execution_count": 37,
      "outputs": [
        {
          "output_type": "display_data",
          "data": {
            "image/png": "[encoded data removed]",
            "text/plain": [
              "<Figure size 432x288 with 1 Axes>"
            ]
          },
          "metadata": {
            "needs_background": "light"
          }
        },
        {
          "output_type": "display_data",
          "data": {
            "image/png": "[encoded data removed]",
            "text/plain": [
              "<Figure size 432x288 with 1 Axes>"
            ]
          },
          "metadata": {
            "needs_background": "light"
          }
        }
      ]
    },
    {
      "cell_type": "code",
      "metadata": {
        "id": "bog4CkTZV9Mh"
      },
      "source": [
        ""
      ],
      "execution_count": null,
      "outputs": []
    }
  ]
}