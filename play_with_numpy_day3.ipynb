{
  "nbformat": 4,
  "nbformat_minor": 0,
  "metadata": {
    "colab": {
      "name": "play_with_numpy_day3.ipynb",
      "provenance": [],
      "authorship_tag": "ABX9TyPOsDflqRdS1zPYWM2RBxbg",
      "include_colab_link": true
    },
    "kernelspec": {
      "name": "python3",
      "display_name": "Python 3"
    },
    "language_info": {
      "name": "python"
    }
  },
  "cells": [
    {
      "cell_type": "markdown",
      "metadata": {
        "id": "view-in-github",
        "colab_type": "text"
      },
      "source": [
        "<a href=\"https://colab.research.google.com/github/ayanbabusona/Intro_to_ML_with_python/blob/ayanbabusona-classwork/play_with_numpy_day3.ipynb\" target=\"_parent\"><img src=\"https://colab.research.google.com/assets/colab-badge.svg\" alt=\"Open In Colab\"/></a>"
      ]
    },
    {
      "cell_type": "markdown",
      "metadata": {
        "id": "WgVSLhzkO9Vl"
      },
      "source": [
        "*Continuing the NumPy Series, we are going to Learn ***Shape Manipulation***.\n",
        "So, Let's Begin!!!*"
      ]
    },
    {
      "cell_type": "markdown",
      "metadata": {
        "id": "SMy3oIClPqeJ"
      },
      "source": [
        "### ***Shape Manipulation***\n",
        "An array has a shape given by the number of elements along each axis:"
      ]
    },
    {
      "cell_type": "code",
      "metadata": {
        "colab": {
          "base_uri": "https://localhost:8080/"
        },
        "id": "PIgfyVcqO3L7",
        "outputId": "133e9ed6-524f-438e-e6a6-f1fc5a4df402"
      },
      "source": [
        "import numpy as np\n",
        "rg = np.random.default_rng(1)  # create instance of default random number generator\n",
        "a = np.floor(10 * rg.random((3, 4)))\n",
        "print(a)\n",
        "print()\n",
        "print(a.shape)"
      ],
      "execution_count": 4,
      "outputs": [
        {
          "output_type": "stream",
          "text": [
            "[[5. 9. 1. 9.]\n",
            " [3. 4. 8. 4.]\n",
            " [5. 0. 7. 5.]]\n",
            "\n",
            "(3, 4)\n"
          ],
          "name": "stdout"
        }
      ]
    },
    {
      "cell_type": "markdown",
      "metadata": {
        "id": "32sCY0DzQ7E4"
      },
      "source": [
        "*The shape of an array can be changed with various commands. Note that the following three commands all return a modified array, but do not change the original array:*"
      ]
    },
    {
      "cell_type": "code",
      "metadata": {
        "colab": {
          "base_uri": "https://localhost:8080/"
        },
        "id": "oRfSJ6e9P8qn",
        "outputId": "dc307d63-6d93-4d5a-e8e1-0d15f9ed2663"
      },
      "source": [
        "print(a.ravel())  # returns the array, flattened\n",
        "print()\n",
        "print(a.reshape(6, 2)) # returns the array with a modified shape\n",
        "print()\n",
        "print(a.T) # returns the array, transposed\n",
        "print(\"Transpose shape: \", a.T.shape)\n",
        "print(\"Original shape: \", a.shape)"
      ],
      "execution_count": 5,
      "outputs": [
        {
          "output_type": "stream",
          "text": [
            "[5. 9. 1. 9. 3. 4. 8. 4. 5. 0. 7. 5.]\n",
            "\n",
            "[[5. 9.]\n",
            " [1. 9.]\n",
            " [3. 4.]\n",
            " [8. 4.]\n",
            " [5. 0.]\n",
            " [7. 5.]]\n",
            "\n",
            "[[5. 3. 5.]\n",
            " [9. 4. 0.]\n",
            " [1. 8. 7.]\n",
            " [9. 4. 5.]]\n",
            "Transpose shape:  (4, 3)\n",
            "Original shape:  (3, 4)\n"
          ],
          "name": "stdout"
        }
      ]
    },
    {
      "cell_type": "markdown",
      "metadata": {
        "id": "7YBRhQ7nSAer"
      },
      "source": [
        "*The order of the elements in the array resulting from ravel is normally “C-style”, that is, the rightmost index “changes the fastest”, so the element after a[0, 0] is a[0, 1]. If the array is reshaped to some other shape, again the array is treated as “C-style”. NumPy normally creates arrays stored in this order, so ravel will usually not need to copy its argument, but if the array was made by taking slices of another array or created with unusual options, it may need to be copied. The functions ravel and reshape can also be instructed, using an optional argument, to use FORTRAN-style arrays, in which the leftmost index changes the fastest.*"
      ]
    },
    {
      "cell_type": "markdown",
      "metadata": {
        "id": "BqSZQGeHSHdn"
      },
      "source": [
        "*The reshape function returns its argument with a modified shape, whereas the ndarray.resize method modifies the array itself:*"
      ]
    },
    {
      "cell_type": "code",
      "metadata": {
        "colab": {
          "base_uri": "https://localhost:8080/"
        },
        "id": "eIFbP55kRnAP",
        "outputId": "d8e18f09-d345-44bf-ab60-119e4fc02698"
      },
      "source": [
        "print(a)\n",
        "a.resize((2, 6))\n",
        "print(a)"
      ],
      "execution_count": 6,
      "outputs": [
        {
          "output_type": "stream",
          "text": [
            "[[5. 9. 1. 9.]\n",
            " [3. 4. 8. 4.]\n",
            " [5. 0. 7. 5.]]\n",
            "[[5. 9. 1. 9. 3. 4.]\n",
            " [8. 4. 5. 0. 7. 5.]]\n"
          ],
          "name": "stdout"
        }
      ]
    },
    {
      "cell_type": "markdown",
      "metadata": {
        "id": "M3wC7SCXSaG3"
      },
      "source": [
        "*If a dimension is given as -1 in a reshaping operation, the other dimensions are automatically calculated:*"
      ]
    },
    {
      "cell_type": "code",
      "metadata": {
        "colab": {
          "base_uri": "https://localhost:8080/"
        },
        "id": "31Yfu5PNSSyF",
        "outputId": "46569ff5-84f5-4ea6-942d-59731d999097"
      },
      "source": [
        "a.reshape(3, -1)"
      ],
      "execution_count": 7,
      "outputs": [
        {
          "output_type": "execute_result",
          "data": {
            "text/plain": [
              "array([[5., 9., 1., 9.],\n",
              "       [3., 4., 8., 4.],\n",
              "       [5., 0., 7., 5.]])"
            ]
          },
          "metadata": {
            "tags": []
          },
          "execution_count": 7
        }
      ]
    },
    {
      "cell_type": "markdown",
      "metadata": {
        "id": "xA7bzjFOSkSw"
      },
      "source": [
        "### ***Stacking together different arrays***\n",
        "*Several arrays can be stacked together along different axes:*"
      ]
    },
    {
      "cell_type": "code",
      "metadata": {
        "colab": {
          "base_uri": "https://localhost:8080/"
        },
        "id": "0rv0GvkkSe7K",
        "outputId": "0b9c69c6-2562-4cd9-fa2f-d2745bdac02a"
      },
      "source": [
        "a = np.floor(10 * rg.random((2, 2)))\n",
        "print(a)\n",
        "print()\n",
        "b = np.floor(10 * rg.random((2, 2)))\n",
        "print(b)\n",
        "print()\n",
        "print(np.vstack((a, b))) #vertical stacking\n",
        "print()\n",
        "print(np.hstack((a, b))) #horizontal stacking"
      ],
      "execution_count": 9,
      "outputs": [
        {
          "output_type": "stream",
          "text": [
            "[[7. 2.]\n",
            " [4. 9.]]\n",
            "\n",
            "[[9. 7.]\n",
            " [5. 2.]]\n",
            "\n",
            "[[7. 2.]\n",
            " [4. 9.]\n",
            " [9. 7.]\n",
            " [5. 2.]]\n",
            "\n",
            "[[7. 2. 9. 7.]\n",
            " [4. 9. 5. 2.]]\n"
          ],
          "name": "stdout"
        }
      ]
    },
    {
      "cell_type": "markdown",
      "metadata": {
        "id": "een5ury9Ta1N"
      },
      "source": [
        "*The function column_stack stacks 1D arrays as columns into a 2D array. It is equivalent to hstack only for 2D arrays:*"
      ]
    },
    {
      "cell_type": "code",
      "metadata": {
        "colab": {
          "base_uri": "https://localhost:8080/"
        },
        "id": "O4yRoM7tTM5M",
        "outputId": "301f8684-8ebb-4abe-b920-d3926a88521e"
      },
      "source": [
        "from numpy import newaxis\n",
        "print(np.column_stack((a, b)))  # with 2D arrays\n",
        "print()\n",
        "a = np.array([4., 2.])\n",
        "b = np.array([3., 8.])\n",
        "print(np.column_stack((a, b))) # returns a 2D array\n",
        "print()\n",
        "print(np.hstack((a, b)))       # the result is different\n",
        "print()\n",
        "print(a[:, newaxis])           # view `a` as a 2D column vector\n",
        "print()\n",
        "print(np.column_stack((a[:, newaxis], b[:, newaxis])))\n",
        "print()\n",
        "print(np.hstack((a[:, newaxis], b[:, newaxis]))) # the result is the same"
      ],
      "execution_count": 10,
      "outputs": [
        {
          "output_type": "stream",
          "text": [
            "[[7. 2. 9. 7.]\n",
            " [4. 9. 5. 2.]]\n",
            "\n",
            "[[4. 3.]\n",
            " [2. 8.]]\n",
            "\n",
            "[4. 2. 3. 8.]\n",
            "\n",
            "[[4.]\n",
            " [2.]]\n",
            "\n",
            "[[4. 3.]\n",
            " [2. 8.]]\n",
            "\n",
            "[[4. 3.]\n",
            " [2. 8.]]\n"
          ],
          "name": "stdout"
        }
      ]
    },
    {
      "cell_type": "markdown",
      "metadata": {
        "id": "_jiMDedoUww8"
      },
      "source": [
        "*On the other hand, the function row_stack is equivalent to vstack for any input arrays. In fact, row_stack is an alias for vstack:*"
      ]
    },
    {
      "cell_type": "code",
      "metadata": {
        "colab": {
          "base_uri": "https://localhost:8080/"
        },
        "id": "Fzk36kRaUqiR",
        "outputId": "1f73cc19-b77e-4da9-88dc-c47a26ebc27c"
      },
      "source": [
        "np.column_stack is np.hstack"
      ],
      "execution_count": 11,
      "outputs": [
        {
          "output_type": "execute_result",
          "data": {
            "text/plain": [
              "False"
            ]
          },
          "metadata": {
            "tags": []
          },
          "execution_count": 11
        }
      ]
    },
    {
      "cell_type": "code",
      "metadata": {
        "colab": {
          "base_uri": "https://localhost:8080/"
        },
        "id": "laaNkEJ_U22x",
        "outputId": "cd65da10-cc33-45a7-fac4-53bdf2349b87"
      },
      "source": [
        "np.row_stack is np.vstack"
      ],
      "execution_count": 12,
      "outputs": [
        {
          "output_type": "execute_result",
          "data": {
            "text/plain": [
              "True"
            ]
          },
          "metadata": {
            "tags": []
          },
          "execution_count": 12
        }
      ]
    },
    {
      "cell_type": "markdown",
      "metadata": {
        "id": "vLXmJXTUVB-t"
      },
      "source": [
        "*In general, for arrays with more than two dimensions, hstack stacks along their second axes, vstack stacks along their first axes, and concatenate allows for an optional arguments giving the number of the axis along which the concatenation should happen.*"
      ]
    },
    {
      "cell_type": "markdown",
      "metadata": {
        "id": "QRNAvq78VGFG"
      },
      "source": [
        "***Note:*** *In complex cases, r_ and c_ are useful for creating arrays by stacking numbers along one axis. They allow the use of range literals :*"
      ]
    },
    {
      "cell_type": "code",
      "metadata": {
        "colab": {
          "base_uri": "https://localhost:8080/"
        },
        "id": "wX-wrUkgU9aE",
        "outputId": "3e612ef4-0f9a-4c39-b4b9-3b4e625078a6"
      },
      "source": [
        "print(np.r_[1:4, 0, 4])\n",
        "print()\n",
        "print(np.c_[np.array([1,2,3]), np.array([4,5,6])])"
      ],
      "execution_count": 18,
      "outputs": [
        {
          "output_type": "stream",
          "text": [
            "[1 2 3 0 4]\n",
            "\n",
            "[[1 4]\n",
            " [2 5]\n",
            " [3 6]]\n"
          ],
          "name": "stdout"
        }
      ]
    },
    {
      "cell_type": "markdown",
      "metadata": {
        "id": "nREgUgGGWYlh"
      },
      "source": [
        "*When used with arrays as arguments, r_ and c_ are similar to vstack and hstack in their default behavior, but allow for an optional argument giving the number of the axis along which to concatenate.*"
      ]
    },
    {
      "cell_type": "markdown",
      "metadata": {
        "id": "4Pmuv5awWiwb"
      },
      "source": [
        "### ***Splitting one array into several smaller ones***\n",
        "*Using hsplit, you can split an array along its horizontal axis, either by specifying the number of equally shaped arrays to return, or by specifying the columns after which the division should occur:*"
      ]
    },
    {
      "cell_type": "code",
      "metadata": {
        "colab": {
          "base_uri": "https://localhost:8080/"
        },
        "id": "ZgKdfjOaVfvB",
        "outputId": "b328d9fe-412e-4bdd-a0f7-6c5ad2af4c39"
      },
      "source": [
        "a = np.floor(10 * rg.random((2, 12)))\n",
        "print(a)\n",
        "print()\n",
        "print(np.hsplit(a, 3)) # Split `a` into 3\n",
        "print()\n",
        "print(np.hsplit(a, (3, 4))) # Split `a` after the third and the fourth column"
      ],
      "execution_count": 20,
      "outputs": [
        {
          "output_type": "stream",
          "text": [
            "[[1. 8. 1. 0. 8. 8. 8. 4. 2. 0. 6. 7.]\n",
            " [8. 2. 2. 6. 8. 9. 1. 4. 8. 4. 5. 0.]]\n",
            "\n",
            "[array([[1., 8., 1., 0.],\n",
            "       [8., 2., 2., 6.]]), array([[8., 8., 8., 4.],\n",
            "       [8., 9., 1., 4.]]), array([[2., 0., 6., 7.],\n",
            "       [8., 4., 5., 0.]])]\n",
            "\n",
            "[array([[1., 8., 1.],\n",
            "       [8., 2., 2.]]), array([[0.],\n",
            "       [6.]]), array([[8., 8., 8., 4., 2., 0., 6., 7.],\n",
            "       [8., 9., 1., 4., 8., 4., 5., 0.]])]\n"
          ],
          "name": "stdout"
        }
      ]
    },
    {
      "cell_type": "markdown",
      "metadata": {
        "id": "6AUG5kGJY92T"
      },
      "source": [
        "*vsplit splits along the vertical axis, and array_split allows one to specify along which axis to split.*"
      ]
    },
    {
      "cell_type": "markdown",
      "metadata": {
        "id": "7xvput0FZJYe"
      },
      "source": [
        "## ***Copies and Views***\n",
        "*When operating and manipulating arrays, their data is sometimes copied into a new array and sometimes not. This is often a source of confusion for beginners. There are three cases:*"
      ]
    },
    {
      "cell_type": "markdown",
      "metadata": {
        "id": "tK48c54rZdAj"
      },
      "source": [
        "### ***No Copy at All***\n",
        "*Simple assignments make no copy of objects or their data.*"
      ]
    },
    {
      "cell_type": "code",
      "metadata": {
        "colab": {
          "base_uri": "https://localhost:8080/"
        },
        "id": "0T6UnWB8XXSQ",
        "outputId": "22c2ce67-5d8b-4ca6-e15e-8410113a0c28"
      },
      "source": [
        "a = np.array([[ 0,  1,  2,  3], [ 4,  5,  6,  7], [ 8,  9, 10, 11]])\n",
        "b = a\n",
        "print(b is a)"
      ],
      "execution_count": 21,
      "outputs": [
        {
          "output_type": "stream",
          "text": [
            "True\n"
          ],
          "name": "stdout"
        }
      ]
    },
    {
      "cell_type": "markdown",
      "metadata": {
        "id": "-j1O20y0aG5L"
      },
      "source": [
        "*Python passes mutable objects as references, so function calls make no copy.*"
      ]
    },
    {
      "cell_type": "code",
      "metadata": {
        "colab": {
          "base_uri": "https://localhost:8080/"
        },
        "id": "HkEXIq9bZ9QV",
        "outputId": "576ce3c2-851c-402a-aa63-813e62fa467f"
      },
      "source": [
        "def f(x):\n",
        "  print(id(x))\n",
        "print(id(a)) # id is a unique identifier of an object\n",
        "f(a)"
      ],
      "execution_count": 22,
      "outputs": [
        {
          "output_type": "stream",
          "text": [
            "140303486961504\n",
            "140303486961504\n"
          ],
          "name": "stdout"
        }
      ]
    },
    {
      "cell_type": "markdown",
      "metadata": {
        "id": "GiDi_-M1aeuV"
      },
      "source": [
        "### ***View or Shallow Copy***\n",
        "*Different array objects can share the same data. The view method creates a new array object that looks at the same data.*"
      ]
    },
    {
      "cell_type": "code",
      "metadata": {
        "colab": {
          "base_uri": "https://localhost:8080/"
        },
        "id": "z76fcmaQaU4m",
        "outputId": "fd09c2f7-439e-43ae-ad97-d252e0080bb8"
      },
      "source": [
        "c = a.view()\n",
        "print(c)\n",
        "print()\n",
        "print(c is a)\n",
        "print()\n",
        "print(c.base is a)\n",
        "print()\n",
        "print(c.flags.owndata)\n",
        "print()\n",
        "c = c.reshape((2, 6))\n",
        "print(c.shape)\n",
        "print()\n",
        "print(a.shape)\n",
        "c[0, 4] = 1234\n",
        "print(a)"
      ],
      "execution_count": 23,
      "outputs": [
        {
          "output_type": "stream",
          "text": [
            "[[ 0  1  2  3]\n",
            " [ 4  5  6  7]\n",
            " [ 8  9 10 11]]\n",
            "\n",
            "False\n",
            "\n",
            "True\n",
            "\n",
            "False\n",
            "\n",
            "(2, 6)\n",
            "\n",
            "(3, 4)\n",
            "[[   0    1    2    3]\n",
            " [1234    5    6    7]\n",
            " [   8    9   10   11]]\n"
          ],
          "name": "stdout"
        }
      ]
    },
    {
      "cell_type": "markdown",
      "metadata": {
        "id": "cPJafphcblmp"
      },
      "source": [
        "*Slicing an array returns a view of it:*"
      ]
    },
    {
      "cell_type": "code",
      "metadata": {
        "colab": {
          "base_uri": "https://localhost:8080/"
        },
        "id": "luJbmfslbV8k",
        "outputId": "ddcc0075-91c2-4560-d3bf-15f884e07159"
      },
      "source": [
        "s = a[:, 1:3]\n",
        "print(s)\n",
        "print()\n",
        "s[:] = 10  # s[:] is a view of s. Note the difference between s = 10 and s[:] = 10\n",
        "print(a)"
      ],
      "execution_count": 24,
      "outputs": [
        {
          "output_type": "stream",
          "text": [
            "[[ 1  2]\n",
            " [ 5  6]\n",
            " [ 9 10]]\n",
            "\n",
            "[[   0   10   10    3]\n",
            " [1234   10   10    7]\n",
            " [   8   10   10   11]]\n"
          ],
          "name": "stdout"
        }
      ]
    },
    {
      "cell_type": "markdown",
      "metadata": {
        "id": "Y5pg2sHhdB8P"
      },
      "source": [
        "### ***Deep Copy***\n",
        "*The copy method makes a complete copy of the array and its data.*"
      ]
    },
    {
      "cell_type": "code",
      "metadata": {
        "colab": {
          "base_uri": "https://localhost:8080/"
        },
        "id": "u2SOyobvb2fw",
        "outputId": "b3c6e79c-0413-4a94-ef1c-816eb50c6c66"
      },
      "source": [
        "d = a.copy()  # a new array object with new data is created\n",
        "print(d is a)\n",
        "print()\n",
        "print(d.base is a) # d doesn't share anything with a\n",
        "print()\n",
        "d[0, 0] = 9999\n",
        "print(a)"
      ],
      "execution_count": 25,
      "outputs": [
        {
          "output_type": "stream",
          "text": [
            "False\n",
            "\n",
            "False\n",
            "\n",
            "[[   0   10   10    3]\n",
            " [1234   10   10    7]\n",
            " [   8   10   10   11]]\n"
          ],
          "name": "stdout"
        }
      ]
    },
    {
      "cell_type": "markdown",
      "metadata": {
        "id": "WKQOVlqkdzoJ"
      },
      "source": [
        "*Sometimes copy should be called after slicing if the original array is not required anymore. For example, suppose a is a huge intermediate result and the final result b only contains a small fraction of a, a deep copy should be made when constructing b with slicing:*"
      ]
    },
    {
      "cell_type": "code",
      "metadata": {
        "id": "GgvZVgP2dsBn"
      },
      "source": [
        "a = np.arange(int(1e8))\n",
        "b = a[:100].copy()\n",
        "del a  # the memory of ``a`` can be released."
      ],
      "execution_count": 26,
      "outputs": []
    },
    {
      "cell_type": "markdown",
      "metadata": {
        "id": "BBlQjyjCeOyg"
      },
      "source": [
        "***The advance indexing will be taught at next notebook!!!***\n",
        "***Stay tuned!!!***"
      ]
    },
    {
      "cell_type": "code",
      "metadata": {
        "id": "QIs0DcS6eN0w"
      },
      "source": [
        ""
      ],
      "execution_count": null,
      "outputs": []
    }
  ]
}