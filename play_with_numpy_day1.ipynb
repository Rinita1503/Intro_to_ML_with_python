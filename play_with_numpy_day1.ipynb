{
  "nbformat": 4,
  "nbformat_minor": 0,
  "metadata": {
    "colab": {
      "name": "play_with_numpy_day1.ipynb",
      "provenance": []
    },
    "kernelspec": {
      "name": "python3",
      "display_name": "Python 3"
    },
    "language_info": {
      "name": "python"
    }
  },
  "cells": [
    {
      "cell_type": "markdown",
      "metadata": {
        "id": "BVq-ous-Z5Zc"
      },
      "source": [
        "## ***Introduction***\n",
        "*This is a quick overview of algebra and arrays in NumPy. It demonstrates how n-dimensional (n>=2) arrays are represented and can be manipulated. In particular, if you don’t know how to apply common functions to n-dimensional arrays (without using for-loops), or if you want to understand axis and shape properties for n-dimensional arrays, this article might be of help.*"
      ]
    },
    {
      "cell_type": "markdown",
      "metadata": {
        "id": "dJd2SnCdaLIG"
      },
      "source": [
        "### ***What we will learn from this notebook??***\n",
        "\n",
        "\n",
        "*   *Understand the difference between one-, two- and n-dimensional arrays in NumPy.*\n",
        "*   *Understand how to apply some linear algebra operations to n-dimensional arrays without using for-loops.*\n",
        "*   *Understand axis and shape properties for n-dimensional arrays.*\n",
        "\n",
        "\n",
        "\n"
      ]
    },
    {
      "cell_type": "markdown",
      "metadata": {
        "id": "Dl6QsSSAftMt"
      },
      "source": [
        "### ***Let's Begin!!!***\n",
        "*NumPy’s main object is the homogeneous multidimensional array. It is a table of elements (usually numbers), all of the same type, indexed by a tuple of non-negative integers. In NumPy dimensions are called axes.*\n",
        "\n",
        "*For example, the coordinates of a point in 3D space [1, 2, 1] has one axis. That axis has 3 elements in it, so we say it has a length of 3. In the example pictured below, the array has 2 axes. The first axis has a length of 2, the second axis has a length of 3 i.e. we can treat it as a matrix of dimension 2 x 3.*\n",
        "\n",
        "![Screenshot (172).png](data:image/png;base64,iVBORw0KGgoAAAANSUhEUgAAASMAAABACAYAAABRNxFtAAAAAXNSR0IArs4c6QAAAARnQU1BAACxjwv8YQUAAAAJcEhZcwAADsMAAA7DAcdvqGQAAAAhdEVYdENyZWF0aW9uIFRpbWUAMjAyMTowNjoxOCAxNToxNTowMsPpbGoAAASbSURBVHhe7d2/axtnHMfxT/oPZEgaUvBiSoQGF2JaKNRppMVRyVgS2yGTLRJD0rW0KCKDcY1NttIU0nL2VOKkxmPA6RKFejDUSIMHozZkKbQ4bsCrl/Y53aNYyi9JjXz3lfN+gTjfc4MffPjD89zz6L6H1tbW/hUAJOzQ7u4uYQQgce/4IwAkijACYAJhBMAEwgiACYQRABMIIwAmEEYATCCMAJhAGAEwgTACYAJhBMAEwgiACYQRABMIIwAmtB9Gfy9pMp1W2n8ml7f9hbqK5hqup29UfDtitz63dx/cZ27dtwOGtf8+ozCMsr9o+MEtnTvu25qEYTQm/bSprz70TR3b0s83v9C1nZS+GZ/W+fd8c4zKt0c0+tifKKc7hbwG/VlcuteHbtwTIB52pml/rejSzLfSiZxviN+T+0WNPs1rtXBXVfe507+i0ZsreuKvx8FCH4AkGAkjNyJa/lNXCm40dMw3xW5DwW9VTQzl9K5vGczmldkJFMQ247TQByAZRsLomM5fjX861KSypnk3Jcqd9OdO+UGgkjs+2tqKGvabhT4ACWE1rdHhPvXVftjQ7MyIvj/ynZsmSaV/YgwCC30AEkAYPa8SKDWzqPfH7+rHM9GcMXMk5rmjhT4AMSOMGu0EGlrt02r47Kq2krelP57WrsTHQh+ABBBGdSc/1oQ7ND48DoPg0U5KZz6IaVRioQ9AQnoujMI9OKmZEV26//JnKNvLk7WNfi9uymxlQLl+af5eoLJvKd+e0vzhT5V9br9TL/Shpfom1stL6rSXwH4wE0b1f67UvRV3VtW1heh8tsMl7aOfDCvjjqVCoE5Xwwcv+H09YT/cp7bf52rjKKU9FvrQ0vGshk+748OiAnZowwBjO7C7YVtLl0+pqGn9+sM5HfWt8bLQh9Dr70k4gjtVkKZfeU+B+By8Z0brgYoPpcxn2eRCwEIfWqooKJSk08PKEkQwoMMwKqmYjb58+arnIQsX/Rc0Y/+ibDgacb/34oLG3Ujg1udJxICFPjjPvig7pgXf1Ch6puWu5Re1mejIDdjT/jQNAPYRS/sATCCMAJhAGAEwgTACYAJhBMAEwgiACYQRABMIIwAmdDGMKFVkRstSRdwr2NPFHdhv/kXZ7pXoeRNJl0sKXzc7pXl/pv7rql4Y8Cedan1PKjfSGtOiNr9sePE2kAAz0zQTJXoMlEsK31+ks9HfoFq4ronHU///nUVADzESRhZK9FgolxS9z+jrZ4OUAeU/Sqn0e5m6aTjwbISRiRI9BsolAW8xO6tplOh5iWjEmDkx2P03PQLG2AmjECV6mtTef+1GjFf83wI4yOyEESV6mkQri+GKHlNHvB1shBEleprUVhZrQZTE1gIgGUZGRhbKBLVvX/vgpqpD4cri2dcHUas+AL3GzDTNQpmg+j94cuWSNjRb+91hMPu++E+nfQB6jakd2N1BqaI97MBG77C1mtYNlCoCelLXw4hSRUn3wWlRqigaMUX3aSzwTUDCKFUEwISDN00D0JMIIwAmEEYATCCMAJhAGAEwgTACYAJhBMAEwgiACYQRABMIIwAGSP8BB/9PVBKL/n0AAAAASUVORK5CYII=)"
      ]
    },
    {
      "cell_type": "markdown",
      "metadata": {
        "id": "-1hrtDboih5o"
      },
      "source": [
        "*NumPy’s array class is called ndarray. It is also known by the alias array. Note that numpy.array is not the same as the Standard Python Library class array.array, which only handles one-dimensional arrays and offers less functionality. The more important attributes of an ndarray object are as follows:*"
      ]
    },
    {
      "cell_type": "markdown",
      "metadata": {
        "id": "UuTzwgRuiqfC"
      },
      "source": [
        "##### ***1. ndarray.ndim: the number of axes (dimensions) of the array.***"
      ]
    },
    {
      "cell_type": "code",
      "metadata": {
        "colab": {
          "base_uri": "https://localhost:8080/"
        },
        "id": "MyTEs95OZqnA",
        "outputId": "8ac19ff5-805e-46ae-b511-89e3b9628706"
      },
      "source": [
        "# import the numpy library\n",
        "import numpy as np\n",
        "# creation of a numpy array\n",
        "a = np.arange(15).reshape(3, 5) # we can create it various way. this is just a one way among them.\n",
        "# print it!!!\n",
        "print(a)\n",
        "print()\n",
        "print(\"dimension: \",a.ndim)"
      ],
      "execution_count": 2,
      "outputs": [
        {
          "output_type": "stream",
          "text": [
            "[[ 0  1  2  3  4]\n",
            " [ 5  6  7  8  9]\n",
            " [10 11 12 13 14]]\n",
            "\n",
            "dimension:  2\n"
          ],
          "name": "stdout"
        }
      ]
    },
    {
      "cell_type": "markdown",
      "metadata": {
        "id": "BDEMvCFzjliT"
      },
      "source": [
        "##### **2. ndarray.shape:** the dimensions of the array. This is a tuple of integers indicating the size of the array in each dimension. For a matrix with n rows and m columns, shape will be (n,m). The length of the shape tuple is therefore the number of axes, ndim."
      ]
    },
    {
      "cell_type": "code",
      "metadata": {
        "colab": {
          "base_uri": "https://localhost:8080/"
        },
        "id": "zgwMrWq5jXri",
        "outputId": "afc7017a-1e6a-431a-8707-f901459cfa13"
      },
      "source": [
        "a.shape"
      ],
      "execution_count": 3,
      "outputs": [
        {
          "output_type": "execute_result",
          "data": {
            "text/plain": [
              "(3, 5)"
            ]
          },
          "metadata": {
            "tags": []
          },
          "execution_count": 3
        }
      ]
    },
    {
      "cell_type": "markdown",
      "metadata": {
        "id": "eGmO2q19kcp2"
      },
      "source": [
        "***3. ndarray.size: the total number of elements of the array. This is equal to the product of the elements of shape.***"
      ]
    },
    {
      "cell_type": "code",
      "metadata": {
        "colab": {
          "base_uri": "https://localhost:8080/"
        },
        "id": "LBbcXDBqkOty",
        "outputId": "aa4f84ae-d1a3-41fc-dcbd-f06a6346e2ca"
      },
      "source": [
        "a.size"
      ],
      "execution_count": 4,
      "outputs": [
        {
          "output_type": "execute_result",
          "data": {
            "text/plain": [
              "15"
            ]
          },
          "metadata": {
            "tags": []
          },
          "execution_count": 4
        }
      ]
    },
    {
      "cell_type": "markdown",
      "metadata": {
        "id": "szTHubwMky4v"
      },
      "source": [
        "***4. ndarray.dtype:*** *an object describing the type of the elements in the array. One can create or specify dtype’s using standard Python types. Additionally NumPy provides types of its own. numpy.int32, numpy.int16, and numpy.float64 are some examples.*"
      ]
    },
    {
      "cell_type": "code",
      "metadata": {
        "colab": {
          "base_uri": "https://localhost:8080/"
        },
        "id": "xEH552Tlkl48",
        "outputId": "41ab26bb-642f-4d48-8842-9fd60bb3fcd6"
      },
      "source": [
        "a.dtype"
      ],
      "execution_count": 5,
      "outputs": [
        {
          "output_type": "execute_result",
          "data": {
            "text/plain": [
              "dtype('int64')"
            ]
          },
          "metadata": {
            "tags": []
          },
          "execution_count": 5
        }
      ]
    },
    {
      "cell_type": "markdown",
      "metadata": {
        "id": "fToNE-H_lH-h"
      },
      "source": [
        "***5. ndarray.itemsize***: *the size in bytes of each element of the array. For example, an array of elements of type float64 has itemsize 8 (=64/8), while one of type complex32 has itemsize 4 (=32/8). It is equivalent to ndarray.dtype.itemsize.*"
      ]
    },
    {
      "cell_type": "code",
      "metadata": {
        "colab": {
          "base_uri": "https://localhost:8080/"
        },
        "id": "n9R6RSkLlAsz",
        "outputId": "01d5df88-4f8e-48da-e72b-f1b67bd9966e"
      },
      "source": [
        "a.itemsize"
      ],
      "execution_count": 6,
      "outputs": [
        {
          "output_type": "execute_result",
          "data": {
            "text/plain": [
              "8"
            ]
          },
          "metadata": {
            "tags": []
          },
          "execution_count": 6
        }
      ]
    },
    {
      "cell_type": "markdown",
      "metadata": {
        "id": "80Zk5ZBYlYYR"
      },
      "source": [
        "***6. ndarray.data:*** *the buffer containing the actual elements of the array. Normally, we won’t need to use this attribute because we will access the elements in an array using indexing facilities.*"
      ]
    },
    {
      "cell_type": "code",
      "metadata": {
        "colab": {
          "base_uri": "https://localhost:8080/"
        },
        "id": "P8fbR2kGlQw4",
        "outputId": "2ccbedda-3097-4eca-8345-cce54bfaedc1"
      },
      "source": [
        "a.data"
      ],
      "execution_count": 7,
      "outputs": [
        {
          "output_type": "execute_result",
          "data": {
            "text/plain": [
              "<memory at 0x7fbfd7cbbe50>"
            ]
          },
          "metadata": {
            "tags": []
          },
          "execution_count": 7
        }
      ]
    },
    {
      "cell_type": "markdown",
      "metadata": {
        "id": "cV9CoTlPlsNS"
      },
      "source": [
        "***7. Data type of an numpy array***"
      ]
    },
    {
      "cell_type": "code",
      "metadata": {
        "colab": {
          "base_uri": "https://localhost:8080/"
        },
        "id": "ftI7TOJ6lmmP",
        "outputId": "79401917-146f-4ce9-f7ac-23edc2801c83"
      },
      "source": [
        "type(a)"
      ],
      "execution_count": 8,
      "outputs": [
        {
          "output_type": "execute_result",
          "data": {
            "text/plain": [
              "numpy.ndarray"
            ]
          },
          "metadata": {
            "tags": []
          },
          "execution_count": 8
        }
      ]
    },
    {
      "cell_type": "markdown",
      "metadata": {
        "id": "yHQEZYORmE8r"
      },
      "source": [
        "### ***Numpy Array Creation***\n",
        "There are several ways to create arrays.\n",
        "\n",
        "For example, you can create an array from a regular Python list or tuple using the array function. The type of the resulting array is deduced from the type of the elements in the sequences."
      ]
    },
    {
      "cell_type": "code",
      "metadata": {
        "colab": {
          "base_uri": "https://localhost:8080/"
        },
        "id": "LwfI0-Uhl074",
        "outputId": "4d5ecaef-ef86-491d-8d42-d7af675bdc45"
      },
      "source": [
        "# creation of an integer array\n",
        "arr = np.array([2,3,4])\n",
        "print(arr,arr.dtype)\n",
        "print()\n",
        "# creation of a floating point array\n",
        "brr = np.array([1.2, 3.5, 5.1])\n",
        "print(brr,brr.dtype)"
      ],
      "execution_count": 10,
      "outputs": [
        {
          "output_type": "stream",
          "text": [
            "[2 3 4] int64\n",
            "\n",
            "[1.2 3.5 5.1] float64\n"
          ],
          "name": "stdout"
        }
      ]
    },
    {
      "cell_type": "markdown",
      "metadata": {
        "id": "j1_2bjEvnARo"
      },
      "source": [
        "*A frequent error consists in calling array with multiple arguments, rather than providing a single sequence as an argument. Let's visualize the error and obtained the correct one.*"
      ]
    },
    {
      "cell_type": "code",
      "metadata": {
        "colab": {
          "base_uri": "https://localhost:8080/",
          "height": 163
        },
        "id": "aWfraGiumyus",
        "outputId": "4d2afbc9-8d9e-4d17-f612-18454db7e3f0"
      },
      "source": [
        "a1 = np.array(1,2,3,4) #Error"
      ],
      "execution_count": 12,
      "outputs": [
        {
          "output_type": "error",
          "ename": "TypeError",
          "evalue": "ignored",
          "traceback": [
            "\u001b[0;31m---------------------------------------------------------------------------\u001b[0m",
            "\u001b[0;31mTypeError\u001b[0m                                 Traceback (most recent call last)",
            "\u001b[0;32m<ipython-input-12-ded3096b0531>\u001b[0m in \u001b[0;36m<module>\u001b[0;34m()\u001b[0m\n\u001b[0;32m----> 1\u001b[0;31m \u001b[0ma1\u001b[0m \u001b[0;34m=\u001b[0m \u001b[0mnp\u001b[0m\u001b[0;34m.\u001b[0m\u001b[0marray\u001b[0m\u001b[0;34m(\u001b[0m\u001b[0;36m1\u001b[0m\u001b[0;34m,\u001b[0m\u001b[0;36m2\u001b[0m\u001b[0;34m,\u001b[0m\u001b[0;36m3\u001b[0m\u001b[0;34m,\u001b[0m\u001b[0;36m4\u001b[0m\u001b[0;34m)\u001b[0m \u001b[0;31m#Error\u001b[0m\u001b[0;34m\u001b[0m\u001b[0;34m\u001b[0m\u001b[0m\n\u001b[0m",
            "\u001b[0;31mTypeError\u001b[0m: array() takes from 1 to 2 positional arguments but 4 were given"
          ]
        }
      ]
    },
    {
      "cell_type": "code",
      "metadata": {
        "id": "EbgN1H24nOdc"
      },
      "source": [
        "a1 = np.array([1,2,3,4])  # Correct"
      ],
      "execution_count": 13,
      "outputs": []
    },
    {
      "cell_type": "markdown",
      "metadata": {
        "id": "XzeYV73HneG8"
      },
      "source": [
        "*array transforms sequences of sequences into two-dimensional arrays, sequences of sequences of sequences into three-dimensional arrays, and so on.*"
      ]
    },
    {
      "cell_type": "code",
      "metadata": {
        "colab": {
          "base_uri": "https://localhost:8080/"
        },
        "id": "R6l9sghynWq0",
        "outputId": "838543df-4c95-4573-cbdd-53a824605c4a"
      },
      "source": [
        "a_2d = np.array([(1.5,2,3), (4,5,6)])\n",
        "print(a_2d)\n",
        "print()\n",
        "print(\"dimension: \",a_2d.ndim)"
      ],
      "execution_count": 16,
      "outputs": [
        {
          "output_type": "stream",
          "text": [
            "[[1.5 2.  3. ]\n",
            " [4.  5.  6. ]]\n",
            "\n",
            "dimension:  2\n"
          ],
          "name": "stdout"
        }
      ]
    },
    {
      "cell_type": "markdown",
      "metadata": {
        "id": "Yp2hhTsBoMu_"
      },
      "source": [
        "*The type of the array can also be explicitly specified at creation time:*"
      ]
    },
    {
      "cell_type": "code",
      "metadata": {
        "colab": {
          "base_uri": "https://localhost:8080/"
        },
        "id": "EwmC8alKnyEf",
        "outputId": "0b09200b-8218-46ec-9ede-c75656d09cdb"
      },
      "source": [
        "complex_array = np.array( [ [1,2], [3,4] ], dtype=complex )\n",
        "print(complex_array)"
      ],
      "execution_count": 17,
      "outputs": [
        {
          "output_type": "stream",
          "text": [
            "[[1.+0.j 2.+0.j]\n",
            " [3.+0.j 4.+0.j]]\n"
          ],
          "name": "stdout"
        }
      ]
    },
    {
      "cell_type": "markdown",
      "metadata": {
        "id": "WreiLSzPooHO"
      },
      "source": [
        "*Often, the elements of an array are originally unknown, but its size is known. Hence, NumPy offers several functions to create arrays with initial placeholder content. These minimize the necessity of growing arrays, an expensive operation.*\n",
        "\n",
        "*The function **zeros** creates an array full of zeros, the function **ones** creates an array full of ones, and the function **empty** creates an array whose initial content is random and depends on the state of the memory. By default, the dtype of the created array is float64.*\n",
        "\n"
      ]
    },
    {
      "cell_type": "code",
      "metadata": {
        "colab": {
          "base_uri": "https://localhost:8080/"
        },
        "id": "kChmUWcRocfP",
        "outputId": "0bc5bf0f-aa4d-45f4-d859-339d55a9bea6"
      },
      "source": [
        "np.zeros((5, 5))"
      ],
      "execution_count": 18,
      "outputs": [
        {
          "output_type": "execute_result",
          "data": {
            "text/plain": [
              "array([[0., 0., 0., 0., 0.],\n",
              "       [0., 0., 0., 0., 0.],\n",
              "       [0., 0., 0., 0., 0.],\n",
              "       [0., 0., 0., 0., 0.],\n",
              "       [0., 0., 0., 0., 0.]])"
            ]
          },
          "metadata": {
            "tags": []
          },
          "execution_count": 18
        }
      ]
    },
    {
      "cell_type": "code",
      "metadata": {
        "colab": {
          "base_uri": "https://localhost:8080/"
        },
        "id": "2xdcfIZXpBvI",
        "outputId": "f1563cfd-9d08-4111-bb7d-5c9bf0a01a51"
      },
      "source": [
        "a_3d = np.ones( (3,3,3), dtype=np.int16 ) # dtype can also be specified\n",
        "a_3d"
      ],
      "execution_count": 20,
      "outputs": [
        {
          "output_type": "execute_result",
          "data": {
            "text/plain": [
              "array([[[1, 1, 1],\n",
              "        [1, 1, 1],\n",
              "        [1, 1, 1]],\n",
              "\n",
              "       [[1, 1, 1],\n",
              "        [1, 1, 1],\n",
              "        [1, 1, 1]],\n",
              "\n",
              "       [[1, 1, 1],\n",
              "        [1, 1, 1],\n",
              "        [1, 1, 1]]], dtype=int16)"
            ]
          },
          "metadata": {
            "tags": []
          },
          "execution_count": 20
        }
      ]
    },
    {
      "cell_type": "code",
      "metadata": {
        "colab": {
          "base_uri": "https://localhost:8080/"
        },
        "id": "YEZ_BvoNpMlE",
        "outputId": "c41169cb-3bbb-46f6-8db7-f20bd87af706"
      },
      "source": [
        "print(\"dimension: \", a_3d.ndim)\n",
        "print(\"shape: \", a_3d.shape)"
      ],
      "execution_count": 23,
      "outputs": [
        {
          "output_type": "stream",
          "text": [
            "dimension:  3\n",
            "shape:  (3, 3, 3)\n"
          ],
          "name": "stdout"
        }
      ]
    },
    {
      "cell_type": "code",
      "metadata": {
        "colab": {
          "base_uri": "https://localhost:8080/"
        },
        "id": "zFuoFStQpW1S",
        "outputId": "d7eee4dc-b363-43bc-f0df-55ca6188705b"
      },
      "source": [
        "np.empty((6,7)) # uninitialized"
      ],
      "execution_count": 26,
      "outputs": [
        {
          "output_type": "execute_result",
          "data": {
            "text/plain": [
              "array([[4.66214297e-310, 0.00000000e+000, 0.00000000e+000,\n",
              "        0.00000000e+000, 0.00000000e+000, 0.00000000e+000,\n",
              "        0.00000000e+000],\n",
              "       [0.00000000e+000, 0.00000000e+000, 0.00000000e+000,\n",
              "        0.00000000e+000, 0.00000000e+000, 0.00000000e+000,\n",
              "        0.00000000e+000],\n",
              "       [0.00000000e+000, 0.00000000e+000, 0.00000000e+000,\n",
              "        0.00000000e+000, 0.00000000e+000, 0.00000000e+000,\n",
              "        0.00000000e+000],\n",
              "       [0.00000000e+000, 0.00000000e+000, 0.00000000e+000,\n",
              "        0.00000000e+000, 0.00000000e+000, 0.00000000e+000,\n",
              "        0.00000000e+000],\n",
              "       [0.00000000e+000, 0.00000000e+000, 0.00000000e+000,\n",
              "        0.00000000e+000, 0.00000000e+000, 0.00000000e+000,\n",
              "        0.00000000e+000],\n",
              "       [0.00000000e+000, 0.00000000e+000, 0.00000000e+000,\n",
              "        0.00000000e+000, 0.00000000e+000, 0.00000000e+000,\n",
              "        0.00000000e+000]])"
            ]
          },
          "metadata": {
            "tags": []
          },
          "execution_count": 26
        }
      ]
    },
    {
      "cell_type": "markdown",
      "metadata": {
        "id": "ZWEdrUneqIoL"
      },
      "source": [
        "*To create sequences of numbers, NumPy provides the arange function which is analogous to the Python built-in range, but returns an array.*"
      ]
    },
    {
      "cell_type": "code",
      "metadata": {
        "colab": {
          "base_uri": "https://localhost:8080/"
        },
        "id": "OnujKDqHpqy9",
        "outputId": "06045ef0-c1f5-4907-ec30-3edcb659f7f8"
      },
      "source": [
        "print(np.arange(10, 30, 2))\n",
        "print(np.arange(10, 30, 5))"
      ],
      "execution_count": 27,
      "outputs": [
        {
          "output_type": "stream",
          "text": [
            "[10 12 14 16 18 20 22 24 26 28]\n",
            "[10 15 20 25]\n"
          ],
          "name": "stdout"
        }
      ]
    },
    {
      "cell_type": "code",
      "metadata": {
        "colab": {
          "base_uri": "https://localhost:8080/"
        },
        "id": "bEUxqUJkqZxn",
        "outputId": "bf32401f-6f17-46aa-a112-7247f2f0b862"
      },
      "source": [
        "print(np.arange(0, 2, 0.1)) # it accepts float arguments\n",
        "print(np.arange(0,1, 0.05))"
      ],
      "execution_count": 29,
      "outputs": [
        {
          "output_type": "stream",
          "text": [
            "[0.  0.1 0.2 0.3 0.4 0.5 0.6 0.7 0.8 0.9 1.  1.1 1.2 1.3 1.4 1.5 1.6 1.7\n",
            " 1.8 1.9]\n",
            "[0.   0.05 0.1  0.15 0.2  0.25 0.3  0.35 0.4  0.45 0.5  0.55 0.6  0.65\n",
            " 0.7  0.75 0.8  0.85 0.9  0.95]\n"
          ],
          "name": "stdout"
        }
      ]
    },
    {
      "cell_type": "markdown",
      "metadata": {
        "id": "EDlTsvgErVS-"
      },
      "source": [
        "*When arange is used with floating point arguments, it is generally not possible to predict the number of elements obtained, due to the finite floating point precision. For this reason, it is usually better to use the function linspace that receives as an argument the number of elements that we want, instead of the step:*"
      ]
    },
    {
      "cell_type": "code",
      "metadata": {
        "colab": {
          "base_uri": "https://localhost:8080/"
        },
        "id": "nz3sXLfZqmjn",
        "outputId": "d2a29e9e-9aff-4390-f96b-5eed2ce83795"
      },
      "source": [
        "from numpy import pi\n",
        "a=np.linspace( 0, 2, 9 ) # 9 numbers from 0 to 2\n",
        "x = np.linspace( 0, 2*pi, 100 ) # useful to evaluate function at lots of points\n",
        "f = np.sin(x)\n",
        "print(a)\n",
        "print()\n",
        "print(x)\n",
        "print()\n",
        "print(f)"
      ],
      "execution_count": 31,
      "outputs": [
        {
          "output_type": "stream",
          "text": [
            "[0.   0.25 0.5  0.75 1.   1.25 1.5  1.75 2.  ]\n",
            "\n",
            "[0.         0.06346652 0.12693304 0.19039955 0.25386607 0.31733259\n",
            " 0.38079911 0.44426563 0.50773215 0.57119866 0.63466518 0.6981317\n",
            " 0.76159822 0.82506474 0.88853126 0.95199777 1.01546429 1.07893081\n",
            " 1.14239733 1.20586385 1.26933037 1.33279688 1.3962634  1.45972992\n",
            " 1.52319644 1.58666296 1.65012947 1.71359599 1.77706251 1.84052903\n",
            " 1.90399555 1.96746207 2.03092858 2.0943951  2.15786162 2.22132814\n",
            " 2.28479466 2.34826118 2.41172769 2.47519421 2.53866073 2.60212725\n",
            " 2.66559377 2.72906028 2.7925268  2.85599332 2.91945984 2.98292636\n",
            " 3.04639288 3.10985939 3.17332591 3.23679243 3.30025895 3.36372547\n",
            " 3.42719199 3.4906585  3.55412502 3.61759154 3.68105806 3.74452458\n",
            " 3.8079911  3.87145761 3.93492413 3.99839065 4.06185717 4.12532369\n",
            " 4.1887902  4.25225672 4.31572324 4.37918976 4.44265628 4.5061228\n",
            " 4.56958931 4.63305583 4.69652235 4.75998887 4.82345539 4.88692191\n",
            " 4.95038842 5.01385494 5.07732146 5.14078798 5.2042545  5.26772102\n",
            " 5.33118753 5.39465405 5.45812057 5.52158709 5.58505361 5.64852012\n",
            " 5.71198664 5.77545316 5.83891968 5.9023862  5.96585272 6.02931923\n",
            " 6.09278575 6.15625227 6.21971879 6.28318531]\n",
            "\n",
            "[ 0.00000000e+00  6.34239197e-02  1.26592454e-01  1.89251244e-01\n",
            "  2.51147987e-01  3.12033446e-01  3.71662456e-01  4.29794912e-01\n",
            "  4.86196736e-01  5.40640817e-01  5.92907929e-01  6.42787610e-01\n",
            "  6.90079011e-01  7.34591709e-01  7.76146464e-01  8.14575952e-01\n",
            "  8.49725430e-01  8.81453363e-01  9.09631995e-01  9.34147860e-01\n",
            "  9.54902241e-01  9.71811568e-01  9.84807753e-01  9.93838464e-01\n",
            "  9.98867339e-01  9.99874128e-01  9.96854776e-01  9.89821442e-01\n",
            "  9.78802446e-01  9.63842159e-01  9.45000819e-01  9.22354294e-01\n",
            "  8.95993774e-01  8.66025404e-01  8.32569855e-01  7.95761841e-01\n",
            "  7.55749574e-01  7.12694171e-01  6.66769001e-01  6.18158986e-01\n",
            "  5.67059864e-01  5.13677392e-01  4.58226522e-01  4.00930535e-01\n",
            "  3.42020143e-01  2.81732557e-01  2.20310533e-01  1.58001396e-01\n",
            "  9.50560433e-02  3.17279335e-02 -3.17279335e-02 -9.50560433e-02\n",
            " -1.58001396e-01 -2.20310533e-01 -2.81732557e-01 -3.42020143e-01\n",
            " -4.00930535e-01 -4.58226522e-01 -5.13677392e-01 -5.67059864e-01\n",
            " -6.18158986e-01 -6.66769001e-01 -7.12694171e-01 -7.55749574e-01\n",
            " -7.95761841e-01 -8.32569855e-01 -8.66025404e-01 -8.95993774e-01\n",
            " -9.22354294e-01 -9.45000819e-01 -9.63842159e-01 -9.78802446e-01\n",
            " -9.89821442e-01 -9.96854776e-01 -9.99874128e-01 -9.98867339e-01\n",
            " -9.93838464e-01 -9.84807753e-01 -9.71811568e-01 -9.54902241e-01\n",
            " -9.34147860e-01 -9.09631995e-01 -8.81453363e-01 -8.49725430e-01\n",
            " -8.14575952e-01 -7.76146464e-01 -7.34591709e-01 -6.90079011e-01\n",
            " -6.42787610e-01 -5.92907929e-01 -5.40640817e-01 -4.86196736e-01\n",
            " -4.29794912e-01 -3.71662456e-01 -3.12033446e-01 -2.51147987e-01\n",
            " -1.89251244e-01 -1.26592454e-01 -6.34239197e-02 -2.44929360e-16]\n"
          ],
          "name": "stdout"
        }
      ]
    },
    {
      "cell_type": "code",
      "metadata": {
        "id": "YGjGXruFsY06"
      },
      "source": [
        "\n"
      ],
      "execution_count": null,
      "outputs": []
    }
  ]
}